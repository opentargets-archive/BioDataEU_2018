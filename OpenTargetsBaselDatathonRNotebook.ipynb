{
 "cells": [
  {
   "cell_type": "markdown",
   "metadata": {},
   "source": [
    "# BioData Basel Open Targets Datathon\n",
    "**Matthew R. Nelson**\n",
    "\n",
    "**November 19, 2018**\n",
    "\n",
    "## Introduction\n",
    "There has been exponential growth in the genetic and genomic data being produced to yield new insights into biology, and particularly with the intent to understand the role of genes and proteins and pathways in disease.  Despite this, selecting protein targets for drug discovery still seems more of an art, guided by intuition and influenced by cognitive biases, than a reproducible science.  Open Targets was established to bring the data and science together in a pre-competitive environment to help foster better early discovery decision making.  In this dual session, we will introduce and engage the participants to the science of target selection.  In this datathon, you will be introduced to the evidence types Open Targets is currently using to established relationships between genes and disease to aid in selecting and validating prospective drug targets.\n",
    "\n",
    "You will be introduced to several genomic and gene-disease data sources.  You are tasked with exploring methods for using these data for predicting drug development success.  Insights and feedback from among the participants will be collated and shared, and may be used in future development of the Open Targets platform.  \n",
    "\n",
    "Prior to the datathon, you are encouraged to download the data files, view the example analysis notebooks available in R and Python, and review the data documentation.  A brief summary will be provided during the introductory session and researchers from Open Targets and GSK will be on hand to answer any questions you may have.  \n",
    "\n",
    "At the datathon, you will be divided into small groups where you can work individually or jointly to explore these data, their relationships to development outcomes, and methods of modeling them to predict outcomes.  At the end of the datathon, groups will be invited to share their experiences and discuss potential next steps.  You are welcome to use whatever analysis tools you prefer for this analysis exercise.\n",
    "\n",
    "\n"
   ]
  },
  {
   "cell_type": "markdown",
   "metadata": {},
   "source": [
    "## Data Import\n",
    "\n",
    "The three primary datathon files are summarized below.  You can find a more complete description of each data file and the variables within them at the datathon Wiki site.\n",
    "\n",
    "**Note about neoplasm versus non-neoplasm indications:** Because the genomic evidence that may be important for neoplasms may be very different than for non-neoplasms, we restrict this summary of the data to non-neoplasm data only."
   ]
  },
  {
   "cell_type": "code",
   "execution_count": 133,
   "metadata": {},
   "outputs": [],
   "source": [
    "## Load packages to use\n",
    "library(ggplot2) # Plotting functions\n",
    "library(tidyr) # Use gather() for reformatting to long-skinny\n",
    "library(dplyr) # Using chaining (%>%) and several dplyr verbs"
   ]
  },
  {
   "cell_type": "markdown",
   "metadata": {},
   "source": [
    "### Pharmaprojects data\n",
    "The first data file, Pprojects_drugs_TTlabel.csv, is derived from Informa Pharmaprojects, a commercial database tracking the development of over 68,000 drugs over the past several decades.  Researchers at GSK have carefully processed and curated this database to create a summary of all target-indication pairs (T-I) that have entered clinical development, tracking the furthest stage of development achieved.  A T-I is considered successful if any drug annotated to act through the selected target was approved for the accompanying indication.  Further details are available on the See [the datathon Wiki site](https://github.com/opentargets/BioDataEU_2018/wiki/Datasets-Index) for details.  The objective of this datathon is to identify the genomic factors that predict successful T-Is (for example, see the related paper by Nelson et al. 2015).  Informa has permitted us to make these data freely available to the datathon participants during the course of this datathon.  They must be permanently deleted after the datathon work is completed, as agreed in the survey.  We have identified 80%/20% of T-Is as a training set and test set.  We encourage any participants interested in exploring predictive models to use them as such."
   ]
  },
  {
   "cell_type": "code",
   "execution_count": 134,
   "metadata": {
    "collapsed": true
   },
   "outputs": [],
   "source": [
    "pp.data = read.csv(\"Pprojects_drugs_TTlabel.csv\",\n",
    "                  na.strings = c(\"NA\", \"\"), header = TRUE) %>%\n",
    "  filter(DiseaseType %in% \"Non-Neoplasm\") %>% \n",
    "  rename(key = target_indication)"
   ]
  },
  {
   "cell_type": "code",
   "execution_count": 135,
   "metadata": {},
   "outputs": [
    {
     "data": {
      "text/plain": [
       "                           key              ensembl_gene_id       disease_id  \n",
       " ENSG00000000971-EFO_0000253 :   1   ENSG00000113580:  97   EFO_0000685: 171  \n",
       " ENSG00000001626-EFO_0000555 :   1   ENSG00000073756:  85   EFO_0000676: 158  \n",
       " ENSG00000001626-HP_0002014  :   1   ENSG00000095303:  79   EFO_0000198: 138  \n",
       " ENSG00000001626-Orphanet_586:   1   ENSG00000065989:  63   EFO_0003843: 128  \n",
       " ENSG00000001630-EFO_0003914 :   1   ENSG00000184588:  61   EFO_0000270: 126  \n",
       " ENSG00000003436-EFO_0001420 :   1   ENSG00000105650:  59   EFO_0000249: 113  \n",
       " (Other)                     :7874   (Other)        :7436   (Other)    :7046  \n",
       "   entrez_id            MeSH_ID           DiseaseType  \n",
       " Min.   :        2   D001172: 171   Neoplasm    :   0  \n",
       " 1st Qu.:     1815   D011565: 158   Non-Neoplasm:7880  \n",
       " Median :     3596   D009190: 138                      \n",
       " Mean   :    35198   D001249: 126                      \n",
       " 3rd Qu.:     5743   D000544: 113                      \n",
       " Max.   :100133941   D003924: 110                      \n",
       "                     (Other):7064                      \n",
       "            Clinical.Label_PP            Furthest.Phase\n",
       " Clinical Failure    :4160    Clinical Phase I  :1635  \n",
       " In Progress Clinical:1820    Clinical Phase II :3290  \n",
       " Succeeded           :1900    Clinical Phase III:1005  \n",
       "                              Succeeded         :1900  \n",
       "                              Withdrawn         :  50  \n",
       "                                                       \n",
       "                                                       \n",
       "      Therapeutic.Direction Indication.with.First.Clinical.Outcome.for.Target\n",
       " Activator       :1768      N:7165                                           \n",
       " Inhibitor       :4435      Y: 715                                           \n",
       " Mixed or Unknown:1677                                                       \n",
       "                                                                             \n",
       "                                                                             \n",
       "                                                                             \n",
       "                                                                             \n",
       "                           Types.of.Assets Suggested.Dataset.Utility\n",
       " Non-Selective Assets              :2835   Neither :7167            \n",
       " Selective and Non-Selective Assets:1635   Test    : 154            \n",
       " Selective Assets                  :3410   Training: 559            \n",
       "                                                                    \n",
       "                                                                    \n",
       "                                                                    \n",
       "                                                                    "
      ]
     },
     "metadata": {},
     "output_type": "display_data"
    }
   ],
   "source": [
    "summary(pp.data)"
   ]
  },
  {
   "cell_type": "markdown",
   "metadata": {},
   "source": [
    "### Open Targets Evidence Scores\n",
    "\n",
    "The second dataset includes the evidence scores that are available through the [Open Targets Portal](http://www.targetvalidation.org/).  See [the datathon Wiki pages](https://github.com/opentargets/BioDataEU_2018/wiki/Datasets-Index) for details.\n",
    "\n",
    "The data file provided includes target evidence scores for all target-indication combinations available in the Open Targets database (over 2.4 million).  As the focus of this exercise is to predict clinical success of target-indication pairs, I have imported the large data file and saved the overlap with Pharmaprojects as a separate, much smaller data set."
   ]
  },
  {
   "cell_type": "code",
   "execution_count": 136,
   "metadata": {},
   "outputs": [],
   "source": [
    "## Create a small dataset matched to pp.data\n",
    "#ot.data.all = read.csv(\"gene_disease_associations_with_expression.csv.gz\",\n",
    "#                       na.strings = c(\"NA\", \"\"), header = TRUE)\n",
    "# dim(ot.data.all)\n",
    "# 2405593 38\n",
    "write.table(subset(ot.data.all, target_indication %in% pp.data$key),\n",
    "            file = \"PP_gene_disease_associations.csv\", \n",
    "            sep = \",\", na = \"NA\", \n",
    "            row.names = FALSE)"
   ]
  },
  {
   "cell_type": "code",
   "execution_count": 137,
   "metadata": {},
   "outputs": [
    {
     "data": {
      "text/html": [
       "<ol class=list-inline>\n",
       "\t<li>'target_indication'</li>\n",
       "\t<li>'entrez_id'</li>\n",
       "\t<li>'ensembl_gene_id'</li>\n",
       "\t<li>'symbol'</li>\n",
       "\t<li>'disease_id'</li>\n",
       "\t<li>'disease_label'</li>\n",
       "\t<li>'therapeutic_area'</li>\n",
       "\t<li>'is_direct'</li>\n",
       "\t<li>'overall_score'</li>\n",
       "\t<li>'genetic_association'</li>\n",
       "\t<li>'somatic_mutation'</li>\n",
       "\t<li>'known_drug'</li>\n",
       "\t<li>'rna_expression'</li>\n",
       "\t<li>'affected_pathway'</li>\n",
       "\t<li>'animal_model'</li>\n",
       "\t<li>'literature'</li>\n",
       "\t<li>'expression_atlas'</li>\n",
       "\t<li>'uniprot'</li>\n",
       "\t<li>'gwas_catalog'</li>\n",
       "\t<li>'phewas_catalog'</li>\n",
       "\t<li>'eva'</li>\n",
       "\t<li>'uniprot_literature'</li>\n",
       "\t<li>'genomics_england'</li>\n",
       "\t<li>'gene2phenotype'</li>\n",
       "\t<li>'reactome'</li>\n",
       "\t<li>'slapenrich'</li>\n",
       "\t<li>'progeny'</li>\n",
       "\t<li>'phenodigm'</li>\n",
       "\t<li>'cancer_gene_census'</li>\n",
       "\t<li>'eva_somatic'</li>\n",
       "\t<li>'uniprot_somatic'</li>\n",
       "\t<li>'intogen'</li>\n",
       "\t<li>'chembl'</li>\n",
       "\t<li>'europepmc'</li>\n",
       "\t<li>'tissue_label'</li>\n",
       "\t<li>'source'</li>\n",
       "\t<li>'max_fold_change'</li>\n",
       "\t<li>'expression_score'</li>\n",
       "</ol>\n"
      ],
      "text/latex": [
       "\\begin{enumerate*}\n",
       "\\item 'target\\_indication'\n",
       "\\item 'entrez\\_id'\n",
       "\\item 'ensembl\\_gene\\_id'\n",
       "\\item 'symbol'\n",
       "\\item 'disease\\_id'\n",
       "\\item 'disease\\_label'\n",
       "\\item 'therapeutic\\_area'\n",
       "\\item 'is\\_direct'\n",
       "\\item 'overall\\_score'\n",
       "\\item 'genetic\\_association'\n",
       "\\item 'somatic\\_mutation'\n",
       "\\item 'known\\_drug'\n",
       "\\item 'rna\\_expression'\n",
       "\\item 'affected\\_pathway'\n",
       "\\item 'animal\\_model'\n",
       "\\item 'literature'\n",
       "\\item 'expression\\_atlas'\n",
       "\\item 'uniprot'\n",
       "\\item 'gwas\\_catalog'\n",
       "\\item 'phewas\\_catalog'\n",
       "\\item 'eva'\n",
       "\\item 'uniprot\\_literature'\n",
       "\\item 'genomics\\_england'\n",
       "\\item 'gene2phenotype'\n",
       "\\item 'reactome'\n",
       "\\item 'slapenrich'\n",
       "\\item 'progeny'\n",
       "\\item 'phenodigm'\n",
       "\\item 'cancer\\_gene\\_census'\n",
       "\\item 'eva\\_somatic'\n",
       "\\item 'uniprot\\_somatic'\n",
       "\\item 'intogen'\n",
       "\\item 'chembl'\n",
       "\\item 'europepmc'\n",
       "\\item 'tissue\\_label'\n",
       "\\item 'source'\n",
       "\\item 'max\\_fold\\_change'\n",
       "\\item 'expression\\_score'\n",
       "\\end{enumerate*}\n"
      ],
      "text/markdown": [
       "1. 'target_indication'\n",
       "2. 'entrez_id'\n",
       "3. 'ensembl_gene_id'\n",
       "4. 'symbol'\n",
       "5. 'disease_id'\n",
       "6. 'disease_label'\n",
       "7. 'therapeutic_area'\n",
       "8. 'is_direct'\n",
       "9. 'overall_score'\n",
       "10. 'genetic_association'\n",
       "11. 'somatic_mutation'\n",
       "12. 'known_drug'\n",
       "13. 'rna_expression'\n",
       "14. 'affected_pathway'\n",
       "15. 'animal_model'\n",
       "16. 'literature'\n",
       "17. 'expression_atlas'\n",
       "18. 'uniprot'\n",
       "19. 'gwas_catalog'\n",
       "20. 'phewas_catalog'\n",
       "21. 'eva'\n",
       "22. 'uniprot_literature'\n",
       "23. 'genomics_england'\n",
       "24. 'gene2phenotype'\n",
       "25. 'reactome'\n",
       "26. 'slapenrich'\n",
       "27. 'progeny'\n",
       "28. 'phenodigm'\n",
       "29. 'cancer_gene_census'\n",
       "30. 'eva_somatic'\n",
       "31. 'uniprot_somatic'\n",
       "32. 'intogen'\n",
       "33. 'chembl'\n",
       "34. 'europepmc'\n",
       "35. 'tissue_label'\n",
       "36. 'source'\n",
       "37. 'max_fold_change'\n",
       "38. 'expression_score'\n",
       "\n",
       "\n"
      ],
      "text/plain": [
       " [1] \"target_indication\"   \"entrez_id\"           \"ensembl_gene_id\"    \n",
       " [4] \"symbol\"              \"disease_id\"          \"disease_label\"      \n",
       " [7] \"therapeutic_area\"    \"is_direct\"           \"overall_score\"      \n",
       "[10] \"genetic_association\" \"somatic_mutation\"    \"known_drug\"         \n",
       "[13] \"rna_expression\"      \"affected_pathway\"    \"animal_model\"       \n",
       "[16] \"literature\"          \"expression_atlas\"    \"uniprot\"            \n",
       "[19] \"gwas_catalog\"        \"phewas_catalog\"      \"eva\"                \n",
       "[22] \"uniprot_literature\"  \"genomics_england\"    \"gene2phenotype\"     \n",
       "[25] \"reactome\"            \"slapenrich\"          \"progeny\"            \n",
       "[28] \"phenodigm\"           \"cancer_gene_census\"  \"eva_somatic\"        \n",
       "[31] \"uniprot_somatic\"     \"intogen\"             \"chembl\"             \n",
       "[34] \"europepmc\"           \"tissue_label\"        \"source\"             \n",
       "[37] \"max_fold_change\"     \"expression_score\"   "
      ]
     },
     "metadata": {},
     "output_type": "display_data"
    }
   ],
   "source": [
    "names(ot.data.all)"
   ]
  },
  {
   "cell_type": "markdown",
   "metadata": {},
   "source": [
    "Now we can simply import the smaller dataset to make re-running this notebook much simpler."
   ]
  },
  {
   "cell_type": "code",
   "execution_count": 138,
   "metadata": {},
   "outputs": [
    {
     "data": {
      "text/html": [
       "<ol class=list-inline>\n",
       "\t<li>5121</li>\n",
       "\t<li>38</li>\n",
       "</ol>\n"
      ],
      "text/latex": [
       "\\begin{enumerate*}\n",
       "\\item 5121\n",
       "\\item 38\n",
       "\\end{enumerate*}\n"
      ],
      "text/markdown": [
       "1. 5121\n",
       "2. 38\n",
       "\n",
       "\n"
      ],
      "text/plain": [
       "[1] 5121   38"
      ]
     },
     "metadata": {},
     "output_type": "display_data"
    },
    {
     "data": {
      "text/plain": [
       "                             key         entrez_id        \n",
       " ENSG00000000971-EFO_0000253   :   1   Min.   :        2  \n",
       " ENSG00000001626-EFO_0000555   :   1   1st Qu.:     1815  \n",
       " ENSG00000001626-HP_0002014    :   1   Median :     3587  \n",
       " ENSG00000001626-Orphanet_586  :   1   Mean   :    29466  \n",
       " ENSG00000003436-Orphanet_903  :   1   3rd Qu.:     5743  \n",
       " ENSG00000003436-Orphanet_98878:   1   Max.   :100133941  \n",
       " (Other)                       :5115                      \n",
       "        ensembl_gene_id     symbol           disease_id  \n",
       " ENSG00000073756:  72   PTGS2  :  72   EFO_0000685: 150  \n",
       " ENSG00000113580:  68   NR3C1  :  68   EFO_0000676: 135  \n",
       " ENSG00000095303:  57   PTGS1  :  57   EFO_0000270: 116  \n",
       " ENSG00000232810:  51   TNF    :  51   EFO_0003843: 115  \n",
       " ENSG00000149295:  46   DRD2   :  46   EFO_0000198: 103  \n",
       " ENSG00000102468:  35   HTR1A  :  35   EFO_0000249:  98  \n",
       " (Other)        :4792   (Other):4792   (Other)    :4404  \n",
       "                  disease_label                               therapeutic_area\n",
       " rheumatoid arthritis    : 150   phenotype                            : 754   \n",
       " psoriasis               : 135   nervous system disease; other disease: 596   \n",
       " asthma                  : 116   cardiovascular disease               : 475   \n",
       " pain                    : 115   nervous system disease               : 276   \n",
       " myelodysplastic syndrome: 103   respiratory system disease           : 267   \n",
       " Alzheimers disease      :  98   (Other)                              :2528   \n",
       " (Other)                 :4404   NA's                                 : 225   \n",
       " is_direct    overall_score       genetic_association somatic_mutation  \n",
       " False: 310   Min.   :0.0000118   Min.   :0.00000     Min.   :0.000000  \n",
       " True :4811   1st Qu.:0.0572183   1st Qu.:0.00000     1st Qu.:0.000000  \n",
       "              Median :0.2250000   Median :0.00000     Median :0.000000  \n",
       "              Mean   :0.4675443   Mean   :0.06141     Mean   :0.004013  \n",
       "              3rd Qu.:1.0002227   3rd Qu.:0.00000     3rd Qu.:0.000000  \n",
       "              Max.   :1.5124629   Max.   :1.49404     Max.   :1.008904  \n",
       "                                                                        \n",
       "   known_drug     rna_expression      affected_pathway   animal_model     \n",
       " Min.   :0.0000   Min.   :0.0000000   Min.   :0.00000   Min.   :0.000000  \n",
       " 1st Qu.:0.0000   1st Qu.:0.0000000   1st Qu.:0.00000   1st Qu.:0.000000  \n",
       " Median :0.2000   Median :0.0000000   Median :0.00000   Median :0.000000  \n",
       " Mean   :0.3863   Mean   :0.0001652   Mean   :0.01001   Mean   :0.008673  \n",
       " 3rd Qu.:1.0000   3rd Qu.:0.0000000   3rd Qu.:0.00000   3rd Qu.:0.000000  \n",
       " Max.   :1.0000   Max.   :0.0471697   Max.   :1.00000   Max.   :0.314590  \n",
       "                                                                          \n",
       "   literature      expression_atlas       uniprot         gwas_catalog    \n",
       " Min.   :0.00000   Min.   :0.0000000   Min.   :0.00000   Min.   :0.00000  \n",
       " 1st Qu.:0.01480   1st Qu.:0.0000000   1st Qu.:0.00000   1st Qu.:0.00000  \n",
       " Median :0.04150   Median :0.0000000   Median :0.00000   Median :0.00000  \n",
       " Mean   :0.05209   Mean   :0.0001652   Mean   :0.01761   Mean   :0.02406  \n",
       " 3rd Qu.:0.06873   3rd Qu.:0.0000000   3rd Qu.:0.00000   3rd Qu.:0.00000  \n",
       " Max.   :0.32125   Max.   :0.0471697   Max.   :1.00000   Max.   :1.00000  \n",
       "                                                                          \n",
       " phewas_catalog           eva          uniprot_literature genomics_england \n",
       " Min.   :0.0000000   Min.   :0.00000   Min.   :0.00000    Min.   :0.00000  \n",
       " 1st Qu.:0.0000000   1st Qu.:0.00000   1st Qu.:0.00000    1st Qu.:0.00000  \n",
       " Median :0.0000000   Median :0.00000   Median :0.00000    Median :0.00000  \n",
       " Mean   :0.0001925   Mean   :0.02103   Mean   :0.02324    Mean   :0.02421  \n",
       " 3rd Qu.:0.0000000   3rd Qu.:0.00000   3rd Qu.:0.00000    3rd Qu.:0.00000  \n",
       " Max.   :0.1942961   Max.   :1.00000   Max.   :1.00000    Max.   :1.00000  \n",
       "                                                                           \n",
       " gene2phenotype        reactome          slapenrich          progeny \n",
       " Min.   :0.000000   Min.   :0.000000   Min.   :0.000000   Min.   :0  \n",
       " 1st Qu.:0.000000   1st Qu.:0.000000   1st Qu.:0.000000   1st Qu.:0  \n",
       " Median :0.000000   Median :0.000000   Median :0.000000   Median :0  \n",
       " Mean   :0.006444   Mean   :0.006444   Mean   :0.003566   Mean   :0  \n",
       " 3rd Qu.:0.000000   3rd Qu.:0.000000   3rd Qu.:0.000000   3rd Qu.:0  \n",
       " Max.   :1.000000   Max.   :1.000000   Max.   :0.802229   Max.   :0  \n",
       "                                                                     \n",
       "   phenodigm        cancer_gene_census  eva_somatic        uniprot_somatic    \n",
       " Min.   :0.000000   Min.   :0.000000   Min.   :0.0000000   Min.   :0.0000000  \n",
       " 1st Qu.:0.000000   1st Qu.:0.000000   1st Qu.:0.0000000   1st Qu.:0.0000000  \n",
       " Median :0.000000   Median :0.000000   Median :0.0000000   Median :0.0000000  \n",
       " Mean   :0.008673   Mean   :0.003568   Mean   :0.0007907   Mean   :0.0001085  \n",
       " 3rd Qu.:0.000000   3rd Qu.:0.000000   3rd Qu.:0.0000000   3rd Qu.:0.0000000  \n",
       " Max.   :0.314590   Max.   :0.808287   Max.   :0.8131173   Max.   :0.5555556  \n",
       "                                                                              \n",
       "    intogen              chembl         europepmc      \n",
       " Min.   :0.0000000   Min.   :0.0000   Min.   :0.00000  \n",
       " 1st Qu.:0.0000000   1st Qu.:0.0000   1st Qu.:0.01480  \n",
       " Median :0.0000000   Median :0.2000   Median :0.04150  \n",
       " Mean   :0.0001085   Mean   :0.3863   Mean   :0.05209  \n",
       " 3rd Qu.:0.0000000   3rd Qu.:1.0000   3rd Qu.:0.06873  \n",
       " Max.   :0.4166667   Max.   :1.0000   Max.   :0.32125  \n",
       "                                                       \n",
       "                              tissue_label          source    \n",
       " Unspecified                        :4662   GTExv6     : 459  \n",
       " Lung                               :  44   Unspecified:4662  \n",
       " Small Intestine - Terminal Ileum   :  34                     \n",
       " Nerve - Tibial                     :  29                     \n",
       " Skin - Not Sun Exposed (Suprapubic):  29                     \n",
       " Adipose - Subcutaneous             :  25                     \n",
       " (Other)                            : 298                     \n",
       " max_fold_change   expression_score \n",
       " Min.   :    0.0   Min.   :0.00000  \n",
       " 1st Qu.:    0.0   1st Qu.:0.00000  \n",
       " Median :    0.0   Median :0.00000  \n",
       " Mean   :   32.3   Mean   :0.04283  \n",
       " 3rd Qu.:    0.0   3rd Qu.:0.00000  \n",
       " Max.   :23708.3   Max.   :0.99000  \n",
       "                                    "
      ]
     },
     "metadata": {},
     "output_type": "display_data"
    }
   ],
   "source": [
    "ot.data <- read.csv(\"PP_gene_disease_associations.csv\", \n",
    "                    na.strings = c(\"NA\", \"\"), header = TRUE) %>% \n",
    "            rename(key = target_indication)\n",
    "dim(ot.data)\n",
    "summary(ot.data)"
   ]
  },
  {
   "cell_type": "code",
   "execution_count": 139,
   "metadata": {},
   "outputs": [
    {
     "data": {
      "text/html": [
       "<table>\n",
       "<thead><tr><th scope=col>key</th><th scope=col>entrez_id</th><th scope=col>ensembl_gene_id</th><th scope=col>symbol</th><th scope=col>disease_id</th><th scope=col>disease_label</th><th scope=col>therapeutic_area</th><th scope=col>is_direct</th><th scope=col>overall_score</th><th scope=col>genetic_association</th><th scope=col>...</th><th scope=col>cancer_gene_census</th><th scope=col>eva_somatic</th><th scope=col>uniprot_somatic</th><th scope=col>intogen</th><th scope=col>chembl</th><th scope=col>europepmc</th><th scope=col>tissue_label</th><th scope=col>source</th><th scope=col>max_fold_change</th><th scope=col>expression_score</th></tr></thead>\n",
       "<tbody>\n",
       "\t<tr><td>ENSG00000105650-MP_0001845</td><td>5143                      </td><td>ENSG00000105650           </td><td>PDE4C                     </td><td>MP_0001845                </td><td>inflammation              </td><td>phenotype                 </td><td>True                      </td><td>0.203582                  </td><td>0                         </td><td>...                       </td><td>0                         </td><td>0                         </td><td>0                         </td><td>0                         </td><td>0.2                       </td><td>0.014328                  </td><td>Unspecified               </td><td>Unspecified               </td><td>0                         </td><td>0                         </td></tr>\n",
       "</tbody>\n",
       "</table>\n"
      ],
      "text/latex": [
       "\\begin{tabular}{r|llllllllllllllllllllllllllllllllllllll}\n",
       " key & entrez\\_id & ensembl\\_gene\\_id & symbol & disease\\_id & disease\\_label & therapeutic\\_area & is\\_direct & overall\\_score & genetic\\_association & ... & cancer\\_gene\\_census & eva\\_somatic & uniprot\\_somatic & intogen & chembl & europepmc & tissue\\_label & source & max\\_fold\\_change & expression\\_score\\\\\n",
       "\\hline\n",
       "\t ENSG00000105650-MP\\_0001845 & 5143                         & ENSG00000105650              & PDE4C                        & MP\\_0001845                 & inflammation                 & phenotype                    & True                         & 0.203582                     & 0                            & ...                          & 0                            & 0                            & 0                            & 0                            & 0.2                          & 0.014328                     & Unspecified                  & Unspecified                  & 0                            & 0                           \\\\\n",
       "\\end{tabular}\n"
      ],
      "text/markdown": [
       "\n",
       "key | entrez_id | ensembl_gene_id | symbol | disease_id | disease_label | therapeutic_area | is_direct | overall_score | genetic_association | ... | cancer_gene_census | eva_somatic | uniprot_somatic | intogen | chembl | europepmc | tissue_label | source | max_fold_change | expression_score | \n",
       "|---|\n",
       "| ENSG00000105650-MP_0001845 | 5143                       | ENSG00000105650            | PDE4C                      | MP_0001845                 | inflammation               | phenotype                  | True                       | 0.203582                   | 0                          | ...                        | 0                          | 0                          | 0                          | 0                          | 0.2                        | 0.014328                   | Unspecified                | Unspecified                | 0                          | 0                          | \n",
       "\n",
       "\n"
      ],
      "text/plain": [
       "  key                        entrez_id ensembl_gene_id symbol disease_id\n",
       "1 ENSG00000105650-MP_0001845 5143      ENSG00000105650 PDE4C  MP_0001845\n",
       "  disease_label therapeutic_area is_direct overall_score genetic_association\n",
       "1 inflammation  phenotype        True      0.203582      0                  \n",
       "  ... cancer_gene_census eva_somatic uniprot_somatic intogen chembl europepmc\n",
       "1 ... 0                  0           0               0       0.2    0.014328 \n",
       "  tissue_label source      max_fold_change expression_score\n",
       "1 Unspecified  Unspecified 0               0               "
      ]
     },
     "metadata": {},
     "output_type": "display_data"
    }
   ],
   "source": [
    "subset(ot.data, key %in% \"ENSG00000105650-MP_0001845\")"
   ]
  },
  {
   "cell_type": "markdown",
   "metadata": {},
   "source": [
    "### Additional Gene Characteristics of Interest\n",
    "\n",
    "In addition to the current Open Targets evidence scores, we include a number of other genomic characteristics that may be insightful in differentiating between effective and ineffective mechanisms.  See [the datathon Wiki pages](https://github.com/opentargets/BioDataEU_2018/wiki/Datasets-Index) for details."
   ]
  },
  {
   "cell_type": "code",
   "execution_count": 140,
   "metadata": {
    "collapsed": true
   },
   "outputs": [],
   "source": [
    "#gene.data.all <- read.csv(\"gene_info_qtq.csv\", \n",
    "#                          na.strings = c(\"NA\", \"\"), header = TRUE)\n",
    "#write.table(subset(gene.data.all, entrez_id %in% pp.data$entrez_id),\n",
    "#            file = \"PP_gene_info_qtq.csv\", sep = \",\", na = \"NA\", \n",
    "#            row.names = FALSE)"
   ]
  },
  {
   "cell_type": "code",
   "execution_count": 141,
   "metadata": {},
   "outputs": [
    {
     "data": {
      "text/html": [
       "<ol class=list-inline>\n",
       "\t<li>40518</li>\n",
       "\t<li>16</li>\n",
       "</ol>\n"
      ],
      "text/latex": [
       "\\begin{enumerate*}\n",
       "\\item 40518\n",
       "\\item 16\n",
       "\\end{enumerate*}\n"
      ],
      "text/markdown": [
       "1. 40518\n",
       "2. 16\n",
       "\n",
       "\n"
      ],
      "text/plain": [
       "[1] 40518    16"
      ]
     },
     "metadata": {},
     "output_type": "display_data"
    },
    {
     "data": {
      "text/html": [
       "1108"
      ],
      "text/latex": [
       "1108"
      ],
      "text/markdown": [
       "1108"
      ],
      "text/plain": [
       "[1] 1108"
      ]
     },
     "metadata": {},
     "output_type": "display_data"
    },
    {
     "data": {
      "text/plain": [
       "     symbol        entrez_id                              locus_type   \n",
       " JAK2   :  248   Min.   :        2   endogenous retrovirus     :    7  \n",
       " TGFB1  :  231   1st Qu.:     1815   gene with protein product :40486  \n",
       " CTNNB1 :  218   Median :     3757   immunoglobulin gene       :   17  \n",
       " AKT1   :  179   Mean   :    96704   RNA, micro                :    5  \n",
       " SIRT1  :  177   3rd Qu.:     6387   RNA, misc                 :    1  \n",
       " (Other):39464   Max.   :100133941   T-cell receptor gene      :    1  \n",
       " NA's   :    1                       T-cell receptor pseudogene:    1  \n",
       "              locus_group           go_id      \n",
       " non-coding RNA     :    6   GO:0005886:  842  \n",
       " other              :   25   GO:0005515:  775  \n",
       " protein-coding gene:40486   GO:0005829:  456  \n",
       " pseudogene         :    1   GO:0005576:  390  \n",
       "                             GO:0005887:  358  \n",
       "                             (Other)   :37686  \n",
       "                             NA's      :   11  \n",
       "                                  go_label     evidence_type  \n",
       " plasma membrane                      :  842   IEA    :10934  \n",
       " protein binding                      :  775   IDA    : 9039  \n",
       " cytosol                              :  456   TAS    : 7854  \n",
       " extracellular region                 :  390   ISS    : 3414  \n",
       " integral component of plasma membrane:  358   IMP    : 3058  \n",
       " (Other)                              :37686   (Other): 6208  \n",
       " NA's                                 :   11   NA's   :   11  \n",
       " reported_count                 protein_class                 target_class  \n",
       " Min.   :  1.000   Enzyme              : 3789   Enzyme_all_others   : 7315  \n",
       " 1st Qu.:  1.000   Unclassified protein: 3346   Kinase_Protein      : 6689  \n",
       " Median :  1.000   Secreted protein    : 2175   Extracellular Ligand: 4568  \n",
       " Mean   :  1.673   Membrane receptor   : 1548   Receptor_all_others : 4324  \n",
       " 3rd Qu.:  1.000   Transcription factor:  693   7TM_Group1          : 3613  \n",
       " Max.   :453.000   (Other)             :22284   (Other)             :14001  \n",
       " NA's   :11        NA's                : 6683   NA's                :    8  \n",
       "    topology_type    target_location               ExAC_LoF    \n",
       " Membrane  : 4314   Exposed  :15753   Intolerant to LoF:14716  \n",
       " MultiTM   : 8653   Nucleus  : 8200   Missing          :  794  \n",
       " Secreted  : 7519   Free     : 7519   Tolerant to LoF  : 6810  \n",
       " SingleTM  : 6962   Organelle: 4123   Unclassified     :18190  \n",
       " Unattached:13062   Cytoplasm: 3255   NA's             :    8  \n",
       " NA's      :    8   (Other)  : 1660                            \n",
       "                    NA's     :    8                            \n",
       " pc_mouse_gene_identity GTEX_median_all_tissues\n",
       " Min.   :  0.00         Min.   :    0.00       \n",
       " 1st Qu.: 77.62         1st Qu.:    0.50       \n",
       " Median : 88.10         Median :    3.77       \n",
       " Mean   : 83.37         Mean   :   28.21       \n",
       " 3rd Qu.: 94.59         3rd Qu.:   17.74       \n",
       " Max.   :100.00         Max.   :10056.00       \n",
       " NA's   :8              NA's   :8              \n",
       "                            description   \n",
       " Janus kinase 2                   :  248  \n",
       " transforming growth factor beta 1:  231  \n",
       " catenin beta 1                   :  218  \n",
       " AKT serine/threonine kinase 1    :  179  \n",
       " sirtuin 1                        :  177  \n",
       " (Other)                          :39457  \n",
       " NA's                             :    8  "
      ]
     },
     "metadata": {},
     "output_type": "display_data"
    }
   ],
   "source": [
    "gene.data <- read.csv(\"PP_gene_info_qtq.csv\", \n",
    "                    na.strings = c(\"NA\", \"\"), header = TRUE) %>%\n",
    "  select(-X, -hgnc_id, -ensembl_gene_id, -uniprot_id)\n",
    "dim(gene.data)\n",
    "length(unique(gene.data$entrez_id))\n",
    "summary(gene.data)\n"
   ]
  },
  {
   "cell_type": "markdown",
   "metadata": {},
   "source": [
    "Most of the descriptors in this data set have a single value for each gene:"
   ]
  },
  {
   "cell_type": "code",
   "execution_count": 142,
   "metadata": {},
   "outputs": [
    {
     "data": {
      "text/html": [
       "<dl class=dl-horizontal>\n",
       "\t<dt>symbol</dt>\n",
       "\t\t<dd>1108</dd>\n",
       "\t<dt>entrez_id</dt>\n",
       "\t\t<dd>1108</dd>\n",
       "\t<dt>locus_type</dt>\n",
       "\t\t<dd>1108</dd>\n",
       "\t<dt>locus_group</dt>\n",
       "\t\t<dd>1108</dd>\n",
       "\t<dt>go_id</dt>\n",
       "\t\t<dd>37167</dd>\n",
       "\t<dt>go_label</dt>\n",
       "\t\t<dd>37167</dd>\n",
       "\t<dt>evidence_type</dt>\n",
       "\t\t<dd>6620</dd>\n",
       "\t<dt>reported_count</dt>\n",
       "\t\t<dd>3886</dd>\n",
       "\t<dt>protein_class</dt>\n",
       "\t\t<dd>1124</dd>\n",
       "\t<dt>target_class</dt>\n",
       "\t\t<dd>1108</dd>\n",
       "\t<dt>topology_type</dt>\n",
       "\t\t<dd>1108</dd>\n",
       "\t<dt>target_location</dt>\n",
       "\t\t<dd>1108</dd>\n",
       "\t<dt>ExAC_LoF</dt>\n",
       "\t\t<dd>1108</dd>\n",
       "\t<dt>pc_mouse_gene_identity</dt>\n",
       "\t\t<dd>1108</dd>\n",
       "\t<dt>GTEX_median_all_tissues</dt>\n",
       "\t\t<dd>1108</dd>\n",
       "\t<dt>description</dt>\n",
       "\t\t<dd>1108</dd>\n",
       "</dl>\n"
      ],
      "text/latex": [
       "\\begin{description*}\n",
       "\\item[symbol] 1108\n",
       "\\item[entrez\\textbackslash{}\\_id] 1108\n",
       "\\item[locus\\textbackslash{}\\_type] 1108\n",
       "\\item[locus\\textbackslash{}\\_group] 1108\n",
       "\\item[go\\textbackslash{}\\_id] 37167\n",
       "\\item[go\\textbackslash{}\\_label] 37167\n",
       "\\item[evidence\\textbackslash{}\\_type] 6620\n",
       "\\item[reported\\textbackslash{}\\_count] 3886\n",
       "\\item[protein\\textbackslash{}\\_class] 1124\n",
       "\\item[target\\textbackslash{}\\_class] 1108\n",
       "\\item[topology\\textbackslash{}\\_type] 1108\n",
       "\\item[target\\textbackslash{}\\_location] 1108\n",
       "\\item[ExAC\\textbackslash{}\\_LoF] 1108\n",
       "\\item[pc\\textbackslash{}\\_mouse\\textbackslash{}\\_gene\\textbackslash{}\\_identity] 1108\n",
       "\\item[GTEX\\textbackslash{}\\_median\\textbackslash{}\\_all\\textbackslash{}\\_tissues] 1108\n",
       "\\item[description] 1108\n",
       "\\end{description*}\n"
      ],
      "text/markdown": [
       "symbol\n",
       ":   1108entrez_id\n",
       ":   1108locus_type\n",
       ":   1108locus_group\n",
       ":   1108go_id\n",
       ":   37167go_label\n",
       ":   37167evidence_type\n",
       ":   6620reported_count\n",
       ":   3886protein_class\n",
       ":   1124target_class\n",
       ":   1108topology_type\n",
       ":   1108target_location\n",
       ":   1108ExAC_LoF\n",
       ":   1108pc_mouse_gene_identity\n",
       ":   1108GTEX_median_all_tissues\n",
       ":   1108description\n",
       ":   1108\n",
       "\n"
      ],
      "text/plain": [
       "                 symbol               entrez_id              locus_type \n",
       "                   1108                    1108                    1108 \n",
       "            locus_group                   go_id                go_label \n",
       "                   1108                   37167                   37167 \n",
       "          evidence_type          reported_count           protein_class \n",
       "                   6620                    3886                    1124 \n",
       "           target_class           topology_type         target_location \n",
       "                   1108                    1108                    1108 \n",
       "               ExAC_LoF  pc_mouse_gene_identity GTEX_median_all_tissues \n",
       "                   1108                    1108                    1108 \n",
       "            description \n",
       "                   1108 "
      ]
     },
     "metadata": {},
     "output_type": "display_data"
    }
   ],
   "source": [
    "apply(gene.data, 2, function(x) length(unique(paste(gene.data$symbol, x))))"
   ]
  },
  {
   "cell_type": "markdown",
   "metadata": {},
   "source": [
    "In this analysis, I'm not doing anything sophisticated with the various GO terms.  To simplify this, I create an analysis version by reducing this data set to the first occurance of each each gene."
   ]
  },
  {
   "cell_type": "code",
   "execution_count": 143,
   "metadata": {
    "collapsed": true
   },
   "outputs": [],
   "source": [
    "ugene.data <- gene.data %>%\n",
    "    subset(!duplicated(symbol))"
   ]
  },
  {
   "cell_type": "markdown",
   "metadata": {},
   "source": [
    "### Merge all data sets into single data frame for analysis"
   ]
  },
  {
   "cell_type": "code",
   "execution_count": 144,
   "metadata": {},
   "outputs": [
    {
     "name": "stderr",
     "output_type": "stream",
     "text": [
      "Joining, by = c(\"key\", \"ensembl_gene_id\", \"disease_id\", \"entrez_id\")\n",
      "Warning message:\n",
      "\"Column `key` joining factors with different levels, coercing to character vector\"Warning message:\n",
      "\"Column `ensembl_gene_id` joining factors with different levels, coercing to character vector\"Warning message:\n",
      "\"Column `disease_id` joining factors with different levels, coercing to character vector\"Joining, by = c(\"entrez_id\", \"symbol\")\n",
      "Warning message:\n",
      "\"Column `symbol` joining factors with different levels, coercing to character vector\""
     ]
    },
    {
     "data": {
      "text/html": [
       "<ol class=list-inline>\n",
       "\t<li>4064</li>\n",
       "\t<li>61</li>\n",
       "</ol>\n"
      ],
      "text/latex": [
       "\\begin{enumerate*}\n",
       "\\item 4064\n",
       "\\item 61\n",
       "\\end{enumerate*}\n"
      ],
      "text/markdown": [
       "1. 4064\n",
       "2. 61\n",
       "\n",
       "\n"
      ],
      "text/plain": [
       "[1] 4064   61"
      ]
     },
     "metadata": {},
     "output_type": "display_data"
    },
    {
     "data": {
      "text/plain": [
       "     key            ensembl_gene_id     disease_id          entrez_id        \n",
       " Length:4064        Length:4064        Length:4064        Min.   :        2  \n",
       " Class :character   Class :character   Class :character   1st Qu.:     1813  \n",
       " Mode  :character   Mode  :character   Mode  :character   Median :     3557  \n",
       "                                                          Mean   :    33352  \n",
       "                                                          3rd Qu.:     5742  \n",
       "                                                          Max.   :100133941  \n",
       "                                                                             \n",
       "    MeSH_ID           DiseaseType              Clinical.Label_PP\n",
       " D001172: 130   Neoplasm    :   0   Clinical Failure    :2772   \n",
       " D011565: 114   Non-Neoplasm:4064   In Progress Clinical:   0   \n",
       " D001249: 104                       Succeeded           :1292   \n",
       " D000544:  73                                                   \n",
       " D003924:  73                                                   \n",
       " D006973:  68                                                   \n",
       " (Other):3502                                                   \n",
       "            Furthest.Phase      Therapeutic.Direction\n",
       " Clinical Phase I  : 777   Activator       : 847     \n",
       " Clinical Phase II :1506   Inhibitor       :2247     \n",
       " Clinical Phase III: 455   Mixed or Unknown: 970     \n",
       " Succeeded         :1292                             \n",
       " Withdrawn         :  34                             \n",
       "                                                     \n",
       "                                                     \n",
       " Indication.with.First.Clinical.Outcome.for.Target\n",
       " N:3542                                           \n",
       " Y: 522                                           \n",
       "                                                  \n",
       "                                                  \n",
       "                                                  \n",
       "                                                  \n",
       "                                                  \n",
       "                           Types.of.Assets Suggested.Dataset.Utility\n",
       " Non-Selective Assets              :1241   Neither :3542            \n",
       " Selective and Non-Selective Assets:1243   Test    : 117            \n",
       " Selective Assets                  :1580   Training: 405            \n",
       "                                                                    \n",
       "                                                                    \n",
       "                                                                    \n",
       "                                                                    \n",
       "    symbol                            disease_label \n",
       " Length:4064        rheumatoid arthritis     : 130  \n",
       " Class :character   psoriasis                : 114  \n",
       " Mode  :character   asthma                   : 104  \n",
       "                    pain                     : 102  \n",
       "                    Alzheimers disease       :  73  \n",
       "                    type II diabetes mellitus:  73  \n",
       "                    (Other)                  :3468  \n",
       "                              therapeutic_area is_direct    overall_score      \n",
       " phenotype                            : 649    False: 255   Min.   :0.0000118  \n",
       " nervous system disease; other disease: 520    True :3809   1st Qu.:0.0630852  \n",
       " cardiovascular disease               : 409                 Median :0.2618932  \n",
       " nervous system disease               : 216                 Mean   :0.5074321  \n",
       " respiratory system disease           : 213                 3rd Qu.:1.0052498  \n",
       " (Other)                              :1861                 Max.   :1.5124629  \n",
       " NA's                                 : 196                                    \n",
       " genetic_association somatic_mutation    known_drug     rna_expression     \n",
       " Min.   :0.00000     Min.   :0.00000   Min.   :0.0000   Min.   :0.0000000  \n",
       " 1st Qu.:0.00000     1st Qu.:0.00000   1st Qu.:0.0000   1st Qu.:0.0000000  \n",
       " Median :0.00000     Median :0.00000   Median :0.2000   Median :0.0000000  \n",
       " Mean   :0.06101     Mean   :0.00383   Mean   :0.4293   Mean   :0.0001741  \n",
       " 3rd Qu.:0.00000     3rd Qu.:0.00000   3rd Qu.:1.0000   3rd Qu.:0.0000000  \n",
       " Max.   :1.49404     Max.   :1.00890   Max.   :1.0000   Max.   :0.0313116  \n",
       "                                                                           \n",
       " affected_pathway   animal_model       literature      expression_atlas   \n",
       " Min.   :0.00000   Min.   :0.00000   Min.   :0.00000   Min.   :0.0000000  \n",
       " 1st Qu.:0.00000   1st Qu.:0.00000   1st Qu.:0.01505   1st Qu.:0.0000000  \n",
       " Median :0.00000   Median :0.00000   Median :0.04229   Median :0.0000000  \n",
       " Mean   :0.01128   Mean   :0.00908   Mean   :0.05269   Mean   :0.0001741  \n",
       " 3rd Qu.:0.00000   3rd Qu.:0.00000   3rd Qu.:0.06923   3rd Qu.:0.0000000  \n",
       " Max.   :1.00000   Max.   :0.31459   Max.   :0.32125   Max.   :0.0313116  \n",
       "                                                                          \n",
       "    uniprot         gwas_catalog     phewas_catalog           eva         \n",
       " Min.   :0.00000   Min.   :0.00000   Min.   :0.0000000   Min.   :0.00000  \n",
       " 1st Qu.:0.00000   1st Qu.:0.00000   1st Qu.:0.0000000   1st Qu.:0.00000  \n",
       " Median :0.00000   Median :0.00000   Median :0.0000000   Median :0.00000  \n",
       " Mean   :0.01854   Mean   :0.02333   Mean   :0.0002309   Mean   :0.02072  \n",
       " 3rd Qu.:0.00000   3rd Qu.:0.00000   3rd Qu.:0.0000000   3rd Qu.:0.00000  \n",
       " Max.   :1.00000   Max.   :1.00000   Max.   :0.1942961   Max.   :1.00000  \n",
       "                                                                          \n",
       " uniprot_literature genomics_england  gene2phenotype        reactome      \n",
       " Min.   :0.00000    Min.   :0.00000   Min.   :0.000000   Min.   :0.00000  \n",
       " 1st Qu.:0.00000    1st Qu.:0.00000   1st Qu.:0.000000   1st Qu.:0.00000  \n",
       " Median :0.00000    Median :0.00000   Median :0.000000   Median :0.00000  \n",
       " Mean   :0.02338    Mean   :0.02436   Mean   :0.006398   Mean   :0.00689  \n",
       " 3rd Qu.:0.00000    3rd Qu.:0.00000   3rd Qu.:0.000000   3rd Qu.:0.00000  \n",
       " Max.   :1.00000    Max.   :1.00000   Max.   :1.000000   Max.   :1.00000  \n",
       "                                                                          \n",
       "   slapenrich          progeny    phenodigm       cancer_gene_census\n",
       " Min.   :0.000000   Min.   :0   Min.   :0.00000   Min.   :0.000000  \n",
       " 1st Qu.:0.000000   1st Qu.:0   1st Qu.:0.00000   1st Qu.:0.000000  \n",
       " Median :0.000000   Median :0   Median :0.00000   Median :0.000000  \n",
       " Mean   :0.004391   Mean   :0   Mean   :0.00908   Mean   :0.003492  \n",
       " 3rd Qu.:0.000000   3rd Qu.:0   3rd Qu.:0.00000   3rd Qu.:0.000000  \n",
       " Max.   :0.802229   Max.   :0   Max.   :0.31459   Max.   :0.808287  \n",
       "                                                                    \n",
       "  eva_somatic        uniprot_somatic        intogen              chembl      \n",
       " Min.   :0.0000000   Min.   :0.0000000   Min.   :0.0000000   Min.   :0.0000  \n",
       " 1st Qu.:0.0000000   1st Qu.:0.0000000   1st Qu.:0.0000000   1st Qu.:0.0000  \n",
       " Median :0.0000000   Median :0.0000000   Median :0.0000000   Median :0.2000  \n",
       " Mean   :0.0004735   Mean   :0.0001367   Mean   :0.0001367   Mean   :0.4293  \n",
       " 3rd Qu.:0.0000000   3rd Qu.:0.0000000   3rd Qu.:0.0000000   3rd Qu.:1.0000  \n",
       " Max.   :0.8131173   Max.   :0.5555556   Max.   :0.4166667   Max.   :1.0000  \n",
       "                                                                             \n",
       "   europepmc                                    tissue_label \n",
       " Min.   :0.00000   Unspecified                        :3684  \n",
       " 1st Qu.:0.01505   Lung                               :  35  \n",
       " Median :0.04229   Nerve - Tibial                     :  24  \n",
       " Mean   :0.05269   Heart - Left Ventricle             :  23  \n",
       " 3rd Qu.:0.06923   Skin - Not Sun Exposed (Suprapubic):  23  \n",
       " Max.   :0.32125   Artery - Aorta                     :  22  \n",
       "                   (Other)                            : 253  \n",
       "         source     max_fold_change    expression_score \n",
       " GTExv6     : 380   Min.   :    0.00   Min.   :0.00000  \n",
       " Unspecified:3684   1st Qu.:    0.00   1st Qu.:0.00000  \n",
       "                    Median :    0.00   Median :0.00000  \n",
       "                    Mean   :   26.72   Mean   :0.04472  \n",
       "                    3rd Qu.:    0.00   3rd Qu.:0.00000  \n",
       "                    Max.   :10791.95   Max.   :0.98000  \n",
       "                                                        \n",
       "                      locus_type                locus_group          go_id     \n",
       " endogenous retrovirus     :   0   non-coding RNA     :   0   GO:0009897: 190  \n",
       " gene with protein product :4058   other              :   6   GO:0005737: 181  \n",
       " immunoglobulin gene       :   6   protein-coding gene:4058   GO:0004252: 154  \n",
       " RNA, micro                :   0   pseudogene         :   0   GO:0000187: 128  \n",
       " RNA, misc                 :   0                              GO:0005088:  86  \n",
       " T-cell receptor gene      :   0                              (Other)   :3324  \n",
       " T-cell receptor pseudogene:   0                              NA's      :   1  \n",
       "                                           go_label    evidence_type \n",
       " external side of plasma membrane              : 190   IEA    :1260  \n",
       " cytoplasm                                     : 181   IDA    : 790  \n",
       " serine-type endopeptidase activity            : 154   TAS    : 749  \n",
       " activation of MAPK activity                   : 128   ISS    : 465  \n",
       " Ras guanyl-nucleotide exchange factor activity:  86   IMP    : 256  \n",
       " (Other)                                       :3324   (Other): 543  \n",
       " NA's                                          :   1   NA's   :   1  \n",
       " reported_count              protein_class                target_class \n",
       " Min.   : 1.000   Secreted protein  : 239   7TM_Group1          : 998  \n",
       " 1st Qu.: 1.000   Oxidoreductase    : 229   Enzyme_all_others   : 545  \n",
       " Median : 1.000   Membrane receptor : 220   Receptor_all_others : 444  \n",
       " Mean   : 1.191   Enzyme            : 188   Ion Channel         : 385  \n",
       " 3rd Qu.: 1.000   Serotonin receptor: 147   Extracellular Ligand: 306  \n",
       " Max.   :15.000   (Other)           :2753   Kinase_Protein      : 247  \n",
       " NA's   :1        NA's              : 288   (Other)             :1139  \n",
       "    topology_type       target_location              ExAC_LoF   \n",
       " Membrane  : 358   Cytoplasm    : 210   Intolerant to LoF:1175  \n",
       " MultiTM   :1751   Exposed      :2186   Missing          :  96  \n",
       " Secreted  : 593   Free         : 593   Tolerant to LoF  : 702  \n",
       " SingleTM  : 612   Mitochondrion: 152   Unclassified     :2091  \n",
       " Unattached: 750   Nucleus      : 432                           \n",
       "                   Organelle    : 491                           \n",
       "                   Unknown      :   0                           \n",
       " pc_mouse_gene_identity GTEX_median_all_tissues\n",
       " Min.   :  0.00         Min.   :   0.00        \n",
       " 1st Qu.: 77.87         1st Qu.:   0.11        \n",
       " Median : 87.42         Median :   0.87        \n",
       " Mean   : 82.67         Mean   :  10.76        \n",
       " 3rd Qu.: 93.51         3rd Qu.:   5.41        \n",
       " Max.   :100.00         Max.   :1488.58        \n",
       "                                               \n",
       "                                        description   clinical.outcome\n",
       " prostaglandin-endoperoxide synthase 2        :  69   Failure:2772    \n",
       " nuclear receptor subfamily 3 group C member 1:  64   Success:1292    \n",
       " prostaglandin-endoperoxide synthase 1        :  55                   \n",
       " tumor necrosis factor                        :  49                   \n",
       " dopamine receptor D2                         :  41                   \n",
       " 5-hydroxytryptamine receptor 1A              :  33                   \n",
       " (Other)                                      :3753                   "
      ]
     },
     "metadata": {},
     "output_type": "display_data"
    }
   ],
   "source": [
    "all.data <- pp.data %>%\n",
    "    filter(Clinical.Label_PP %in% c(\"Clinical Failure\", \n",
    "                                    \"Succeeded\")) %>%\n",
    "    inner_join(ot.data) %>%\n",
    "    left_join(ugene.data) %>%\n",
    "    mutate(clinical.outcome = \n",
    "           droplevels(recode_factor(Clinical.Label_PP, \n",
    "                                    `Clinical Failure` = \"Failure\", \n",
    "                                    `Succeeded` = \"Success\")))\n",
    "dim(all.data)\n",
    "summary(all.data)"
   ]
  },
  {
   "cell_type": "code",
   "execution_count": 145,
   "metadata": {
    "collapsed": true
   },
   "outputs": [],
   "source": [
    "write.csv(all.data, \"all_data.csv\", na = \"\")"
   ]
  },
  {
   "cell_type": "markdown",
   "metadata": {},
   "source": [
    "## Data Exploration\n",
    "In this section, we perform some basic exploratory data visualizations and summaries to understand the score and evidence distributions and their relationships with clinical success.\n",
    "\n",
    "### Quantitative Open Targets scores\n",
    "\n",
    "Put data into a long format to permit trellised ggplots"
   ]
  },
  {
   "cell_type": "code",
   "execution_count": 146,
   "metadata": {
    "collapsed": true
   },
   "outputs": [],
   "source": [
    "id.vars = c('key', 'symbol', 'disease_label')\n",
    "outcome.vars = c('Clinical.Label_PP', 'Furthest.Phase', \n",
    "                 'Therapeutic.Direction', 'clinical.outcome')\n",
    "ot.scores = c('overall_score', 'genetic_association',\n",
    "              'known_drug', 'rna_expression', 'expression_score', \n",
    "           'affected_pathway', 'animal_model', 'literature')\n",
    "otsrc.scores = c('expression_atlas', 'uniprot', 'gwas_catalog', \n",
    "                 'phewas_catalog',\n",
    "                 'eva', 'uniprot_literature', 'genomics_england', \n",
    "                 'gene2phenotype',\n",
    "                 'reactome', 'slapenrich', 'phenodigm', 'europepmc')\n",
    "gene.qvars = c('pc_mouse_gene_identity', 'GTEX_median_all_tissues')\n",
    "gene.cvars = c('protein_class', 'target_class', 'topology_type', \n",
    "               'target_location', 'ExAC_LoF')"
   ]
  },
  {
   "cell_type": "code",
   "execution_count": 147,
   "metadata": {},
   "outputs": [],
   "source": [
    "all.long = gather(all.data[, c(id.vars, outcome.vars, ot.scores, \n",
    "                               otsrc.scores, gene.qvars)], \n",
    "                  datasource, score, \n",
    "                  overall_score:GTEX_median_all_tissues, \n",
    "                  factor_key = TRUE)\n",
    "ot.long = gather(all.data[, c(id.vars, outcome.vars, ot.scores, \n",
    "                              otsrc.scores)], \n",
    "                 datasource, score, \n",
    "                 overall_score:europepmc, \n",
    "                 factor_key = TRUE)"
   ]
  },
  {
   "cell_type": "code",
   "execution_count": 148,
   "metadata": {},
   "outputs": [
    {
     "data": {
      "text/html": [
       "<ol class=list-inline>\n",
       "\t<li>81280</li>\n",
       "\t<li>9</li>\n",
       "</ol>\n"
      ],
      "text/latex": [
       "\\begin{enumerate*}\n",
       "\\item 81280\n",
       "\\item 9\n",
       "\\end{enumerate*}\n"
      ],
      "text/markdown": [
       "1. 81280\n",
       "2. 9\n",
       "\n",
       "\n"
      ],
      "text/plain": [
       "[1] 81280     9"
      ]
     },
     "metadata": {},
     "output_type": "display_data"
    },
    {
     "data": {
      "text/plain": [
       "     key               symbol                            disease_label  \n",
       " Length:81280       Length:81280       rheumatoid arthritis     : 2600  \n",
       " Class :character   Class :character   psoriasis                : 2280  \n",
       " Mode  :character   Mode  :character   asthma                   : 2080  \n",
       "                                       pain                     : 2040  \n",
       "                                       Alzheimers disease       : 1460  \n",
       "                                       type II diabetes mellitus: 1460  \n",
       "                                       (Other)                  :69360  \n",
       "            Clinical.Label_PP            Furthest.Phase \n",
       " Clinical Failure    :55440   Clinical Phase I  :15540  \n",
       " In Progress Clinical:    0   Clinical Phase II :30120  \n",
       " Succeeded           :25840   Clinical Phase III: 9100  \n",
       "                              Succeeded         :25840  \n",
       "                              Withdrawn         :  680  \n",
       "                                                        \n",
       "                                                        \n",
       "      Therapeutic.Direction clinical.outcome               datasource   \n",
       " Activator       :16940     Failure:55440    overall_score      : 4064  \n",
       " Inhibitor       :44940     Success:25840    genetic_association: 4064  \n",
       " Mixed or Unknown:19400                      known_drug         : 4064  \n",
       "                                             rna_expression     : 4064  \n",
       "                                             expression_score   : 4064  \n",
       "                                             affected_pathway   : 4064  \n",
       "                                             (Other)            :56896  \n",
       "     score        \n",
       " Min.   :0.00000  \n",
       " 1st Qu.:0.00000  \n",
       " Median :0.00000  \n",
       " Mean   :0.06529  \n",
       " 3rd Qu.:0.00000  \n",
       " Max.   :1.51246  \n",
       "                  "
      ]
     },
     "metadata": {},
     "output_type": "display_data"
    }
   ],
   "source": [
    "dim(ot.long)\n",
    "summary(ot.long)"
   ]
  },
  {
   "cell_type": "code",
   "execution_count": 149,
   "metadata": {},
   "outputs": [
    {
     "data": {
      "image/png": "[encoded data removed]",
      "text/plain": [
       "plot without title"
      ]
     },
     "metadata": {},
     "output_type": "display_data"
    }
   ],
   "source": [
    "g = ggplot(all.long, aes(score)) +\n",
    "  geom_histogram(bins = 10) + \n",
    "  facet_wrap(~datasource, scales = \"free\")\n",
    "print(g)"
   ]
  },
  {
   "cell_type": "code",
   "execution_count": 150,
   "metadata": {},
   "outputs": [
    {
     "name": "stderr",
     "output_type": "stream",
     "text": [
      "`geom_smooth()` using method = 'gam'\n",
      "Warning message:\n",
      "\"Computation failed in `stat_smooth()`:\n",
      "x has insufficient unique values to support 10 knots: reduce k.\"Warning message:\n",
      "\"Computation failed in `stat_smooth()`:\n",
      "x has insufficient unique values to support 10 knots: reduce k.\"Warning message:\n",
      "\"Computation failed in `stat_smooth()`:\n",
      "x has insufficient unique values to support 10 knots: reduce k.\"Warning message:\n",
      "\"Computation failed in `stat_smooth()`:\n",
      "x has insufficient unique values to support 10 knots: reduce k.\"Warning message:\n",
      "\"Computation failed in `stat_smooth()`:\n",
      "x has insufficient unique values to support 10 knots: reduce k.\""
     ]
    },
    {
     "data": {
      "image/png": "[encoded data removed]",
      "text/plain": [
       "plot without title"
      ]
     },
     "metadata": {},
     "output_type": "display_data"
    }
   ],
   "source": [
    "g = ggplot(all.long, aes(score, as.numeric(clinical.outcome) - 1)) +\n",
    "    geom_point(alpha = 0.2) +  \n",
    "    stat_smooth(geom = \"line\", n = 10, color = \"red\") + \n",
    "    facet_wrap(~datasource, scales = \"free\")\n",
    "print(g)"
   ]
  },
  {
   "cell_type": "markdown",
   "metadata": {
    "collapsed": true
   },
   "source": [
    "### Converting scores into binary measures of positive and negative evidence\n",
    "\n",
    "Looking at the relationship between the various Open Targets scores and T-I success, it appears that score values below 0.25 are generally associated with lower success rates, though this varies for many score types.  Let's set a threshold value of 0.1 and call everything that exceeds that as having positive evidence."
   ]
  },
  {
   "cell_type": "code",
   "execution_count": 151,
   "metadata": {},
   "outputs": [
    {
     "data": {
      "text/html": [
       "<table>\n",
       "<thead><tr><th></th><th scope=col>Negative</th><th scope=col>Positive</th></tr></thead>\n",
       "<tbody>\n",
       "\t<tr><th scope=row>overall_score.pos</th><td>1328</td><td>2736</td></tr>\n",
       "\t<tr><th scope=row>genetic_association.pos</th><td>3762</td><td> 302</td></tr>\n",
       "\t<tr><th scope=row>known_drug.pos</th><td>1768</td><td>2296</td></tr>\n",
       "\t<tr><th scope=row>rna_expression.pos</th><td>4064</td><td>4064</td></tr>\n",
       "\t<tr><th scope=row>expression_score.pos</th><td>3707</td><td> 357</td></tr>\n",
       "\t<tr><th scope=row>affected_pathway.pos</th><td>4003</td><td>  61</td></tr>\n",
       "\t<tr><th scope=row>animal_model.pos</th><td>3895</td><td> 169</td></tr>\n",
       "\t<tr><th scope=row>literature.pos</th><td>3543</td><td> 521</td></tr>\n",
       "\t<tr><th scope=row>expression_atlas.pos</th><td>4064</td><td>4064</td></tr>\n",
       "\t<tr><th scope=row>uniprot.pos</th><td>3982</td><td>  82</td></tr>\n",
       "\t<tr><th scope=row>gwas_catalog.pos</th><td>3880</td><td> 184</td></tr>\n",
       "\t<tr><th scope=row>phewas_catalog.pos</th><td>4061</td><td>   3</td></tr>\n",
       "\t<tr><th scope=row>eva.pos</th><td>3965</td><td>  99</td></tr>\n",
       "\t<tr><th scope=row>uniprot_literature.pos</th><td>3965</td><td>  99</td></tr>\n",
       "\t<tr><th scope=row>genomics_england.pos</th><td>3965</td><td>  99</td></tr>\n",
       "\t<tr><th scope=row>gene2phenotype.pos</th><td>4038</td><td>  26</td></tr>\n",
       "\t<tr><th scope=row>reactome.pos</th><td>4036</td><td>  28</td></tr>\n",
       "\t<tr><th scope=row>slapenrich.pos</th><td>4031</td><td>  33</td></tr>\n",
       "\t<tr><th scope=row>phenodigm.pos</th><td>3895</td><td> 169</td></tr>\n",
       "\t<tr><th scope=row>europepmc.pos</th><td>3543</td><td> 521</td></tr>\n",
       "</tbody>\n",
       "</table>\n"
      ],
      "text/latex": [
       "\\begin{tabular}{r|ll}\n",
       "  & Negative & Positive\\\\\n",
       "\\hline\n",
       "\toverall\\_score.pos & 1328 & 2736\\\\\n",
       "\tgenetic\\_association.pos & 3762 &  302\\\\\n",
       "\tknown\\_drug.pos & 1768 & 2296\\\\\n",
       "\trna\\_expression.pos & 4064 & 4064\\\\\n",
       "\texpression\\_score.pos & 3707 &  357\\\\\n",
       "\taffected\\_pathway.pos & 4003 &   61\\\\\n",
       "\tanimal\\_model.pos & 3895 &  169\\\\\n",
       "\tliterature.pos & 3543 &  521\\\\\n",
       "\texpression\\_atlas.pos & 4064 & 4064\\\\\n",
       "\tuniprot.pos & 3982 &   82\\\\\n",
       "\tgwas\\_catalog.pos & 3880 &  184\\\\\n",
       "\tphewas\\_catalog.pos & 4061 &    3\\\\\n",
       "\teva.pos & 3965 &   99\\\\\n",
       "\tuniprot\\_literature.pos & 3965 &   99\\\\\n",
       "\tgenomics\\_england.pos & 3965 &   99\\\\\n",
       "\tgene2phenotype.pos & 4038 &   26\\\\\n",
       "\treactome.pos & 4036 &   28\\\\\n",
       "\tslapenrich.pos & 4031 &   33\\\\\n",
       "\tphenodigm.pos & 3895 &  169\\\\\n",
       "\teuropepmc.pos & 3543 &  521\\\\\n",
       "\\end{tabular}\n"
      ],
      "text/markdown": [
       "\n",
       "| <!--/--> | Negative | Positive | \n",
       "|---|---|---|---|---|---|---|---|---|---|---|---|---|---|---|---|---|---|---|---|\n",
       "| overall_score.pos | 1328 | 2736 | \n",
       "| genetic_association.pos | 3762 |  302 | \n",
       "| known_drug.pos | 1768 | 2296 | \n",
       "| rna_expression.pos | 4064 | 4064 | \n",
       "| expression_score.pos | 3707 |  357 | \n",
       "| affected_pathway.pos | 4003 |   61 | \n",
       "| animal_model.pos | 3895 |  169 | \n",
       "| literature.pos | 3543 |  521 | \n",
       "| expression_atlas.pos | 4064 | 4064 | \n",
       "| uniprot.pos | 3982 |   82 | \n",
       "| gwas_catalog.pos | 3880 |  184 | \n",
       "| phewas_catalog.pos | 4061 |    3 | \n",
       "| eva.pos | 3965 |   99 | \n",
       "| uniprot_literature.pos | 3965 |   99 | \n",
       "| genomics_england.pos | 3965 |   99 | \n",
       "| gene2phenotype.pos | 4038 |   26 | \n",
       "| reactome.pos | 4036 |   28 | \n",
       "| slapenrich.pos | 4031 |   33 | \n",
       "| phenodigm.pos | 3895 |  169 | \n",
       "| europepmc.pos | 3543 |  521 | \n",
       "\n",
       "\n"
      ],
      "text/plain": [
       "                        Negative Positive\n",
       "overall_score.pos       1328     2736    \n",
       "genetic_association.pos 3762      302    \n",
       "known_drug.pos          1768     2296    \n",
       "rna_expression.pos      4064     4064    \n",
       "expression_score.pos    3707      357    \n",
       "affected_pathway.pos    4003       61    \n",
       "animal_model.pos        3895      169    \n",
       "literature.pos          3543      521    \n",
       "expression_atlas.pos    4064     4064    \n",
       "uniprot.pos             3982       82    \n",
       "gwas_catalog.pos        3880      184    \n",
       "phewas_catalog.pos      4061        3    \n",
       "eva.pos                 3965       99    \n",
       "uniprot_literature.pos  3965       99    \n",
       "genomics_england.pos    3965       99    \n",
       "gene2phenotype.pos      4038       26    \n",
       "reactome.pos            4036       28    \n",
       "slapenrich.pos          4031       33    \n",
       "phenodigm.pos           3895      169    \n",
       "europepmc.pos           3543      521    "
      ]
     },
     "metadata": {},
     "output_type": "display_data"
    }
   ],
   "source": [
    "pos.score.vars = paste(c(ot.scores, otsrc.scores), \".pos\", sep = \"\")\n",
    "names(pos.score.vars) = c(ot.scores, otsrc.scores)\n",
    "for(i in names(pos.score.vars)) {\n",
    "    all.data[, pos.score.vars[i]] = cut(all.data[, i], c(0, 0.1, 100), \n",
    "                                        labels = c(\"Negative\", \"Positive\"),\n",
    "                                        include.lowest = TRUE)\n",
    "}\n",
    "do.call(\"rbind\", apply(all.data[, pos.score.vars], 2, table))"
   ]
  },
  {
   "cell_type": "code",
   "execution_count": 152,
   "metadata": {},
   "outputs": [
    {
     "data": {
      "text/html": [
       "<table>\n",
       "<thead><tr><th></th><th scope=col>OR</th><th scope=col>Lower</th><th scope=col>Upper</th></tr></thead>\n",
       "<tbody>\n",
       "\t<tr><th scope=row>overall_score.pos</th><td>3.4077847 </td><td>2.8823575 </td><td>  4.041107</td></tr>\n",
       "\t<tr><th scope=row>genetic_association.pos</th><td>1.3713346 </td><td>1.0667681 </td><td>  1.757202</td></tr>\n",
       "\t<tr><th scope=row>known_drug.pos</th><td>3.7213146 </td><td>3.1993641 </td><td>  4.335960</td></tr>\n",
       "\t<tr><th scope=row>rna_expression.pos</th><td>0.0000000 </td><td>0.0000000 </td><td>       Inf</td></tr>\n",
       "\t<tr><th scope=row>expression_score.pos</th><td>1.9182899 </td><td>1.5296043 </td><td>  2.403548</td></tr>\n",
       "\t<tr><th scope=row>affected_pathway.pos</th><td>1.6058173 </td><td>0.9239383 </td><td>  2.758392</td></tr>\n",
       "\t<tr><th scope=row>animal_model.pos</th><td>1.3948836 </td><td>1.0004791 </td><td>  1.933610</td></tr>\n",
       "\t<tr><th scope=row>literature.pos</th><td>0.9537654 </td><td>0.7766443 </td><td>  1.167726</td></tr>\n",
       "\t<tr><th scope=row>expression_atlas.pos</th><td>0.0000000 </td><td>0.0000000 </td><td>       Inf</td></tr>\n",
       "\t<tr><th scope=row>uniprot.pos</th><td>1.7862454 </td><td>1.1180972 </td><td>  2.838363</td></tr>\n",
       "\t<tr><th scope=row>gwas_catalog.pos</th><td>0.9612435 </td><td>0.6854023 </td><td>  1.334392</td></tr>\n",
       "\t<tr><th scope=row>phewas_catalog.pos</th><td>4.2943947 </td><td>0.2233737 </td><td>253.147237</td></tr>\n",
       "\t<tr><th scope=row>eva.pos</th><td>1.8161668 </td><td>1.1877704 </td><td>  2.765425</td></tr>\n",
       "\t<tr><th scope=row>uniprot_literature.pos</th><td>2.0582880 </td><td>1.3501468 </td><td>  3.133274</td></tr>\n",
       "\t<tr><th scope=row>genomics_england.pos</th><td>2.2367178 </td><td>1.4687687 </td><td>  3.407862</td></tr>\n",
       "\t<tr><th scope=row>gene2phenotype.pos</th><td>2.5189388 </td><td>1.0779164 </td><td>  5.980811</td></tr>\n",
       "\t<tr><th scope=row>reactome.pos</th><td>2.1576534 </td><td>0.9503662 </td><td>  4.899130</td></tr>\n",
       "\t<tr><th scope=row>slapenrich.pos</th><td>1.2280304 </td><td>0.5490118 </td><td>  2.622947</td></tr>\n",
       "\t<tr><th scope=row>phenodigm.pos</th><td>1.3948836 </td><td>1.0004791 </td><td>  1.933610</td></tr>\n",
       "\t<tr><th scope=row>europepmc.pos</th><td>0.9537654 </td><td>0.7766443 </td><td>  1.167726</td></tr>\n",
       "</tbody>\n",
       "</table>\n"
      ],
      "text/latex": [
       "\\begin{tabular}{r|lll}\n",
       "  & OR & Lower & Upper\\\\\n",
       "\\hline\n",
       "\toverall\\_score.pos & 3.4077847  & 2.8823575  &   4.041107\\\\\n",
       "\tgenetic\\_association.pos & 1.3713346  & 1.0667681  &   1.757202\\\\\n",
       "\tknown\\_drug.pos & 3.7213146  & 3.1993641  &   4.335960\\\\\n",
       "\trna\\_expression.pos & 0.0000000  & 0.0000000  &        Inf\\\\\n",
       "\texpression\\_score.pos & 1.9182899  & 1.5296043  &   2.403548\\\\\n",
       "\taffected\\_pathway.pos & 1.6058173  & 0.9239383  &   2.758392\\\\\n",
       "\tanimal\\_model.pos & 1.3948836  & 1.0004791  &   1.933610\\\\\n",
       "\tliterature.pos & 0.9537654  & 0.7766443  &   1.167726\\\\\n",
       "\texpression\\_atlas.pos & 0.0000000  & 0.0000000  &        Inf\\\\\n",
       "\tuniprot.pos & 1.7862454  & 1.1180972  &   2.838363\\\\\n",
       "\tgwas\\_catalog.pos & 0.9612435  & 0.6854023  &   1.334392\\\\\n",
       "\tphewas\\_catalog.pos & 4.2943947  & 0.2233737  & 253.147237\\\\\n",
       "\teva.pos & 1.8161668  & 1.1877704  &   2.765425\\\\\n",
       "\tuniprot\\_literature.pos & 2.0582880  & 1.3501468  &   3.133274\\\\\n",
       "\tgenomics\\_england.pos & 2.2367178  & 1.4687687  &   3.407862\\\\\n",
       "\tgene2phenotype.pos & 2.5189388  & 1.0779164  &   5.980811\\\\\n",
       "\treactome.pos & 2.1576534  & 0.9503662  &   4.899130\\\\\n",
       "\tslapenrich.pos & 1.2280304  & 0.5490118  &   2.622947\\\\\n",
       "\tphenodigm.pos & 1.3948836  & 1.0004791  &   1.933610\\\\\n",
       "\teuropepmc.pos & 0.9537654  & 0.7766443  &   1.167726\\\\\n",
       "\\end{tabular}\n"
      ],
      "text/markdown": [
       "\n",
       "| <!--/--> | OR | Lower | Upper | \n",
       "|---|---|---|---|---|---|---|---|---|---|---|---|---|---|---|---|---|---|---|---|\n",
       "| overall_score.pos | 3.4077847  | 2.8823575  |   4.041107 | \n",
       "| genetic_association.pos | 1.3713346  | 1.0667681  |   1.757202 | \n",
       "| known_drug.pos | 3.7213146  | 3.1993641  |   4.335960 | \n",
       "| rna_expression.pos | 0.0000000  | 0.0000000  |        Inf | \n",
       "| expression_score.pos | 1.9182899  | 1.5296043  |   2.403548 | \n",
       "| affected_pathway.pos | 1.6058173  | 0.9239383  |   2.758392 | \n",
       "| animal_model.pos | 1.3948836  | 1.0004791  |   1.933610 | \n",
       "| literature.pos | 0.9537654  | 0.7766443  |   1.167726 | \n",
       "| expression_atlas.pos | 0.0000000  | 0.0000000  |        Inf | \n",
       "| uniprot.pos | 1.7862454  | 1.1180972  |   2.838363 | \n",
       "| gwas_catalog.pos | 0.9612435  | 0.6854023  |   1.334392 | \n",
       "| phewas_catalog.pos | 4.2943947  | 0.2233737  | 253.147237 | \n",
       "| eva.pos | 1.8161668  | 1.1877704  |   2.765425 | \n",
       "| uniprot_literature.pos | 2.0582880  | 1.3501468  |   3.133274 | \n",
       "| genomics_england.pos | 2.2367178  | 1.4687687  |   3.407862 | \n",
       "| gene2phenotype.pos | 2.5189388  | 1.0779164  |   5.980811 | \n",
       "| reactome.pos | 2.1576534  | 0.9503662  |   4.899130 | \n",
       "| slapenrich.pos | 1.2280304  | 0.5490118  |   2.622947 | \n",
       "| phenodigm.pos | 1.3948836  | 1.0004791  |   1.933610 | \n",
       "| europepmc.pos | 0.9537654  | 0.7766443  |   1.167726 | \n",
       "\n",
       "\n"
      ],
      "text/plain": [
       "                        OR        Lower     Upper     \n",
       "overall_score.pos       3.4077847 2.8823575   4.041107\n",
       "genetic_association.pos 1.3713346 1.0667681   1.757202\n",
       "known_drug.pos          3.7213146 3.1993641   4.335960\n",
       "rna_expression.pos      0.0000000 0.0000000        Inf\n",
       "expression_score.pos    1.9182899 1.5296043   2.403548\n",
       "affected_pathway.pos    1.6058173 0.9239383   2.758392\n",
       "animal_model.pos        1.3948836 1.0004791   1.933610\n",
       "literature.pos          0.9537654 0.7766443   1.167726\n",
       "expression_atlas.pos    0.0000000 0.0000000        Inf\n",
       "uniprot.pos             1.7862454 1.1180972   2.838363\n",
       "gwas_catalog.pos        0.9612435 0.6854023   1.334392\n",
       "phewas_catalog.pos      4.2943947 0.2233737 253.147237\n",
       "eva.pos                 1.8161668 1.1877704   2.765425\n",
       "uniprot_literature.pos  2.0582880 1.3501468   3.133274\n",
       "genomics_england.pos    2.2367178 1.4687687   3.407862\n",
       "gene2phenotype.pos      2.5189388 1.0779164   5.980811\n",
       "reactome.pos            2.1576534 0.9503662   4.899130\n",
       "slapenrich.pos          1.2280304 0.5490118   2.622947\n",
       "phenodigm.pos           1.3948836 1.0004791   1.933610\n",
       "europepmc.pos           0.9537654 0.7766443   1.167726"
      ]
     },
     "metadata": {},
     "output_type": "display_data"
    }
   ],
   "source": [
    "or.mat = matrix(NA, ncol = 3, nrow = length(pos.score.vars), \n",
    "               dimnames = list(pos.score.vars, \n",
    "                               c(\"OR\", \"Lower\", \"Upper\")))\n",
    "or.list = list()\n",
    "for(i in pos.score.vars) {\n",
    "    or.list[[i]][[\"Table\"]] = table(all.data[, \"clinical.outcome\"], \n",
    "                                    all.data[, i])\n",
    "    or.list[[i]][[\"Test\"]] = fisher.test(or.list[[i]][[\"Table\"]])\n",
    "    or.mat[i,] = unlist(or.list[[i]][[\"Test\"]][c(\"estimate\", \"conf.int\")])\n",
    "}\n",
    "or.mat"
   ]
  },
  {
   "cell_type": "markdown",
   "metadata": {},
   "source": [
    "Repeat categorization for human-mouse protein sequence identity and GTEx median tissue (not currently in Open Targets).\n"
   ]
  },
  {
   "cell_type": "code",
   "execution_count": 153,
   "metadata": {},
   "outputs": [
    {
     "data": {
      "text/html": [
       "<table>\n",
       "<thead><tr><th></th><th scope=col>pc_mouse_gene_identity.pos</th><th scope=col>GTEX_median_all_tissues.pos</th></tr></thead>\n",
       "<tbody>\n",
       "\t<tr><th scope=row>Negative</th><td> 597</td><td>2328</td></tr>\n",
       "\t<tr><th scope=row>Positive</th><td>3467</td><td>1736</td></tr>\n",
       "</tbody>\n",
       "</table>\n"
      ],
      "text/latex": [
       "\\begin{tabular}{r|ll}\n",
       "  & pc\\_mouse\\_gene\\_identity.pos & GTEX\\_median\\_all\\_tissues.pos\\\\\n",
       "\\hline\n",
       "\tNegative &  597 & 2328\\\\\n",
       "\tPositive & 3467 & 1736\\\\\n",
       "\\end{tabular}\n"
      ],
      "text/markdown": [
       "\n",
       "| <!--/--> | pc_mouse_gene_identity.pos | GTEX_median_all_tissues.pos | \n",
       "|---|---|\n",
       "| Negative |  597 | 2328 | \n",
       "| Positive | 3467 | 1736 | \n",
       "\n",
       "\n"
      ],
      "text/plain": [
       "         pc_mouse_gene_identity.pos GTEX_median_all_tissues.pos\n",
       "Negative  597                       2328                       \n",
       "Positive 3467                       1736                       "
      ]
     },
     "metadata": {},
     "output_type": "display_data"
    }
   ],
   "source": [
    "pos.gene.qvars = paste(gene.qvars, \".pos\", sep = \"\")\n",
    "all.data = all.data %>%\n",
    "    mutate(pc_mouse_gene_identity.pos = \n",
    "           ifelse(pc_mouse_gene_identity > 70, \"Positive\", \"Negative\")) %>%\n",
    "    mutate(GTEX_median_all_tissues.pos = \n",
    "           ifelse(GTEX_median_all_tissues < 0.5, \"Positive\", \"Negative\"))\n",
    "apply(all.data[, pos.gene.qvars], 2, table)"
   ]
  },
  {
   "cell_type": "code",
   "execution_count": 154,
   "metadata": {},
   "outputs": [
    {
     "data": {
      "text/html": [
       "<table>\n",
       "<thead><tr><th></th><th scope=col>OR</th><th scope=col>Lower</th><th scope=col>Upper</th></tr></thead>\n",
       "<tbody>\n",
       "\t<tr><th scope=row>pc_mouse_gene_identity.pos</th><td>1.713860</td><td>1.392942</td><td>2.118962</td></tr>\n",
       "\t<tr><th scope=row>GTEX_median_all_tissues.pos</th><td>1.289462</td><td>1.126355</td><td>1.476164</td></tr>\n",
       "</tbody>\n",
       "</table>\n"
      ],
      "text/latex": [
       "\\begin{tabular}{r|lll}\n",
       "  & OR & Lower & Upper\\\\\n",
       "\\hline\n",
       "\tpc\\_mouse\\_gene\\_identity.pos & 1.713860 & 1.392942 & 2.118962\\\\\n",
       "\tGTEX\\_median\\_all\\_tissues.pos & 1.289462 & 1.126355 & 1.476164\\\\\n",
       "\\end{tabular}\n"
      ],
      "text/markdown": [
       "\n",
       "| <!--/--> | OR | Lower | Upper | \n",
       "|---|---|\n",
       "| pc_mouse_gene_identity.pos | 1.713860 | 1.392942 | 2.118962 | \n",
       "| GTEX_median_all_tissues.pos | 1.289462 | 1.126355 | 1.476164 | \n",
       "\n",
       "\n"
      ],
      "text/plain": [
       "                            OR       Lower    Upper   \n",
       "pc_mouse_gene_identity.pos  1.713860 1.392942 2.118962\n",
       "GTEX_median_all_tissues.pos 1.289462 1.126355 1.476164"
      ]
     },
     "metadata": {},
     "output_type": "display_data"
    }
   ],
   "source": [
    "or.mat = matrix(NA, ncol = 3, nrow = length(pos.gene.qvars), \n",
    "               dimnames = list(pos.gene.qvars, c(\"OR\", \"Lower\", \"Upper\")))\n",
    "or.list = list()\n",
    "for(i in pos.gene.qvars) {\n",
    "    or.list[[i]][[\"Table\"]] = table(all.data[, \"clinical.outcome\"], \n",
    "                                    all.data[, i])\n",
    "    or.list[[i]][[\"Test\"]] = fisher.test(or.list[[i]][[\"Table\"]])\n",
    "    or.mat[i,] = unlist(or.list[[i]][[\"Test\"]][c(\"estimate\", \"conf.int\")])\n",
    "}\n",
    "or.mat"
   ]
  },
  {
   "cell_type": "markdown",
   "metadata": {},
   "source": [
    "### Categorical gene features\n"
   ]
  },
  {
   "cell_type": "code",
   "execution_count": 155,
   "metadata": {},
   "outputs": [
    {
     "data": {
      "text/plain": [
       "            protein_class                target_class     topology_type \n",
       " Secreted protein  : 239   7TM_Group1          : 998   Membrane  : 358  \n",
       " Oxidoreductase    : 229   Enzyme_all_others   : 545   MultiTM   :1751  \n",
       " Membrane receptor : 220   Receptor_all_others : 444   Secreted  : 593  \n",
       " Enzyme            : 188   Ion Channel         : 385   SingleTM  : 612  \n",
       " Serotonin receptor: 147   Extracellular Ligand: 306   Unattached: 750  \n",
       " (Other)           :2753   Kinase_Protein      : 247                    \n",
       " NA's              : 288   (Other)             :1139                    \n",
       "      target_location              ExAC_LoF   \n",
       " Cytoplasm    : 210   Intolerant to LoF:1175  \n",
       " Exposed      :2186   Missing          :  96  \n",
       " Free         : 593   Tolerant to LoF  : 702  \n",
       " Mitochondrion: 152   Unclassified     :2091  \n",
       " Nucleus      : 432                           \n",
       " Organelle    : 491                           \n",
       " Unknown      :   0                           "
      ]
     },
     "metadata": {},
     "output_type": "display_data"
    }
   ],
   "source": [
    "summary((all.data[, gene.cvars]))"
   ]
  },
  {
   "cell_type": "code",
   "execution_count": 156,
   "metadata": {},
   "outputs": [
    {
     "data": {
      "text/plain": [
       "\n",
       "Call:\n",
       "glm(formula = clinical.outcome ~ pcred, family = binomial(link = \"logit\"), \n",
       "    data = all.data)\n",
       "\n",
       "Deviance Residuals: \n",
       "    Min       1Q   Median       3Q      Max  \n",
       "-1.6651  -0.6923  -0.6923   1.1149   2.7971  \n",
       "\n",
       "Coefficients:\n",
       "                                                           Estimate Std. Error\n",
       "(Intercept)                                                  0.8842     0.2727\n",
       "pcredAdrenergic receptor                                    -0.4268     0.3272\n",
       "pcredCC chemokine receptor                                  -4.7760     1.0463\n",
       "pcredDopamine receptor                                      -1.1355     0.3416\n",
       "pcredEnzyme                                                 -2.7591     0.3471\n",
       "pcredGABA-A receptor                                        -0.7431     0.3619\n",
       "pcredHistamine receptor                                     -1.0993     0.3829\n",
       "pcredHydrolase                                              -0.8465     0.3871\n",
       "pcredMembrane receptor                                      -1.3468     0.3058\n",
       "pcredNuclear hormone receptor subfamily 3 group C member 1   0.2144     0.3971\n",
       "pcredOpioid receptor                                        -0.8543     0.3662\n",
       "pcredOther                                                  -2.1907     0.2782\n",
       "pcredOxidoreductase                                         -0.7355     0.3032\n",
       "pcredProstanoid receptor                                    -2.4482     0.4569\n",
       "pcredSecreted protein                                       -1.7859     0.3078\n",
       "pcredSerine protease S1A subfamily                          -0.4622     0.3402\n",
       "pcredSerotonin receptor                                     -1.3410     0.3210\n",
       "pcredSLC06 neurotransmitter transporter family              -0.9795     0.3494\n",
       "pcredUnclassified protein                                   -2.0127     0.3668\n",
       "pcredVoltage-gated sodium channel                           -0.8568     0.3594\n",
       "                                                           z value Pr(>|z|)    \n",
       "(Intercept)                                                  3.242 0.001186 ** \n",
       "pcredAdrenergic receptor                                    -1.305 0.192056    \n",
       "pcredCC chemokine receptor                                  -4.565 5.00e-06 ***\n",
       "pcredDopamine receptor                                      -3.324 0.000887 ***\n",
       "pcredEnzyme                                                 -7.948 1.89e-15 ***\n",
       "pcredGABA-A receptor                                        -2.053 0.040048 *  \n",
       "pcredHistamine receptor                                     -2.871 0.004094 ** \n",
       "pcredHydrolase                                              -2.187 0.028778 *  \n",
       "pcredMembrane receptor                                      -4.404 1.06e-05 ***\n",
       "pcredNuclear hormone receptor subfamily 3 group C member 1   0.540 0.589257    \n",
       "pcredOpioid receptor                                        -2.333 0.019640 *  \n",
       "pcredOther                                                  -7.876 3.38e-15 ***\n",
       "pcredOxidoreductase                                         -2.426 0.015283 *  \n",
       "pcredProstanoid receptor                                    -5.358 8.39e-08 ***\n",
       "pcredSecreted protein                                       -5.802 6.55e-09 ***\n",
       "pcredSerine protease S1A subfamily                          -1.358 0.174314    \n",
       "pcredSerotonin receptor                                     -4.178 2.94e-05 ***\n",
       "pcredSLC06 neurotransmitter transporter family              -2.803 0.005060 ** \n",
       "pcredUnclassified protein                                   -5.487 4.08e-08 ***\n",
       "pcredVoltage-gated sodium channel                           -2.384 0.017129 *  \n",
       "---\n",
       "Signif. codes:  0 '***' 0.001 '**' 0.01 '*' 0.05 '.' 0.1 ' ' 1\n",
       "\n",
       "(Dispersion parameter for binomial family taken to be 1)\n",
       "\n",
       "    Null deviance: 5082.3  on 4063  degrees of freedom\n",
       "Residual deviance: 4608.9  on 4044  degrees of freedom\n",
       "AIC: 4648.9\n",
       "\n",
       "Number of Fisher Scoring iterations: 6\n"
      ]
     },
     "metadata": {},
     "output_type": "display_data"
    },
    {
     "data": {
      "text/html": [
       "<table>\n",
       "<thead><tr><th></th><th scope=col>Df</th><th scope=col>Deviance</th><th scope=col>Resid. Df</th><th scope=col>Resid. Dev</th><th scope=col>Pr(&gt;Chi)</th></tr></thead>\n",
       "<tbody>\n",
       "\t<tr><th scope=row>NULL</th><td>NA          </td><td>      NA    </td><td>4063        </td><td>5082.330    </td><td>          NA</td></tr>\n",
       "\t<tr><th scope=row>pcred</th><td>19          </td><td>473.3949    </td><td>4044        </td><td>4608.935    </td><td>2.105904e-88</td></tr>\n",
       "</tbody>\n",
       "</table>\n"
      ],
      "text/latex": [
       "\\begin{tabular}{r|lllll}\n",
       "  & Df & Deviance & Resid. Df & Resid. Dev & Pr(>Chi)\\\\\n",
       "\\hline\n",
       "\tNULL & NA           &       NA     & 4063         & 5082.330     &           NA\\\\\n",
       "\tpcred & 19           & 473.3949     & 4044         & 4608.935     & 2.105904e-88\\\\\n",
       "\\end{tabular}\n"
      ],
      "text/markdown": [
       "\n",
       "| <!--/--> | Df | Deviance | Resid. Df | Resid. Dev | Pr(>Chi) | \n",
       "|---|---|\n",
       "| NULL | NA           |       NA     | 4063         | 5082.330     |           NA | \n",
       "| pcred | 19           | 473.3949     | 4044         | 4608.935     | 2.105904e-88 | \n",
       "\n",
       "\n"
      ],
      "text/plain": [
       "      Df Deviance Resid. Df Resid. Dev Pr(>Chi)    \n",
       "NULL  NA       NA 4063      5082.330             NA\n",
       "pcred 19 473.3949 4044      4608.935   2.105904e-88"
      ]
     },
     "metadata": {},
     "output_type": "display_data"
    }
   ],
   "source": [
    "protein.classes = table(all.data$protein_class)\n",
    "common.protein.classes = names(protein.classes[protein.classes >= 50])\n",
    "all.data$pcred = as.character(all.data$protein_class)\n",
    "all.data$pcred[!(all.data$pcred %in% common.protein.classes)] = \"Other\"\n",
    "g = glm(clinical.outcome ~ pcred, all.data, family = binomial(link = \"logit\"))\n",
    "summary(g)\n",
    "anova(g, test = \"Chisq\")"
   ]
  },
  {
   "cell_type": "code",
   "execution_count": 157,
   "metadata": {},
   "outputs": [
    {
     "data": {
      "text/plain": [
       "\n",
       "Call:\n",
       "glm(formula = clinical.outcome ~ target_class, family = binomial(link = \"logit\"), \n",
       "    data = all.data)\n",
       "\n",
       "Deviance Residuals: \n",
       "    Min       1Q   Median       3Q      Max  \n",
       "-1.1486  -0.9563  -0.7664   1.4068   2.0867  \n",
       "\n",
       "Coefficients:\n",
       "                                              Estimate Std. Error z value\n",
       "(Intercept)                                    -1.3106     0.2300  -5.698\n",
       "target_class7TM_Group1                          0.7858     0.2392   3.286\n",
       "target_classEnzyme_all_others                   0.7654     0.2466   3.104\n",
       "target_classEnzyme_Esterase                     0.3649     0.2871   1.271\n",
       "target_classEnzyme_Transferase                  0.1066     0.5192   0.205\n",
       "target_classExtracellular Ligand               -0.1424     0.2724  -0.523\n",
       "target_classExtracellular_all_others           -0.1935     0.3744  -0.517\n",
       "target_classIon Channel                         0.7284     0.2534   2.875\n",
       "target_classKinase_Protein                     -0.7463     0.3053  -2.445\n",
       "target_classNuclear Receptor                    1.1745     0.2691   4.365\n",
       "target_classOther                               0.5634     0.3063   1.839\n",
       "target_classProtease                            0.7022     0.2687   2.613\n",
       "target_classReceptor_all_others                 0.2359     0.2545   0.927\n",
       "target_classTranscriptional_Factor_all_others  -0.3571     0.4145  -0.862\n",
       "target_classTransporter                         1.2425     0.2831   4.389\n",
       "                                              Pr(>|z|)    \n",
       "(Intercept)                                   1.21e-08 ***\n",
       "target_class7TM_Group1                         0.00102 ** \n",
       "target_classEnzyme_all_others                  0.00191 ** \n",
       "target_classEnzyme_Esterase                    0.20373    \n",
       "target_classEnzyme_Transferase                 0.83731    \n",
       "target_classExtracellular Ligand               0.60107    \n",
       "target_classExtracellular_all_others           0.60532    \n",
       "target_classIon Channel                        0.00404 ** \n",
       "target_classKinase_Protein                     0.01449 *  \n",
       "target_classNuclear Receptor                  1.27e-05 ***\n",
       "target_classOther                              0.06590 .  \n",
       "target_classProtease                           0.00897 ** \n",
       "target_classReceptor_all_others                0.35408    \n",
       "target_classTranscriptional_Factor_all_others  0.38886    \n",
       "target_classTransporter                       1.14e-05 ***\n",
       "---\n",
       "Signif. codes:  0 '***' 0.001 '**' 0.01 '*' 0.05 '.' 0.1 ' ' 1\n",
       "\n",
       "(Dispersion parameter for binomial family taken to be 1)\n",
       "\n",
       "    Null deviance: 5082.3  on 4063  degrees of freedom\n",
       "Residual deviance: 4907.3  on 4049  degrees of freedom\n",
       "AIC: 4937.3\n",
       "\n",
       "Number of Fisher Scoring iterations: 4\n"
      ]
     },
     "metadata": {},
     "output_type": "display_data"
    },
    {
     "data": {
      "text/html": [
       "<table>\n",
       "<thead><tr><th></th><th scope=col>Df</th><th scope=col>Deviance</th><th scope=col>Resid. Df</th><th scope=col>Resid. Dev</th><th scope=col>Pr(&gt;Chi)</th></tr></thead>\n",
       "<tbody>\n",
       "\t<tr><th scope=row>NULL</th><td>NA          </td><td>     NA     </td><td>4063        </td><td>5082.330    </td><td>          NA</td></tr>\n",
       "\t<tr><th scope=row>target_class</th><td>14          </td><td>175.033     </td><td>4049        </td><td>4907.297    </td><td>6.572631e-30</td></tr>\n",
       "</tbody>\n",
       "</table>\n"
      ],
      "text/latex": [
       "\\begin{tabular}{r|lllll}\n",
       "  & Df & Deviance & Resid. Df & Resid. Dev & Pr(>Chi)\\\\\n",
       "\\hline\n",
       "\tNULL & NA           &      NA      & 4063         & 5082.330     &           NA\\\\\n",
       "\ttarget\\_class & 14           & 175.033      & 4049         & 4907.297     & 6.572631e-30\\\\\n",
       "\\end{tabular}\n"
      ],
      "text/markdown": [
       "\n",
       "| <!--/--> | Df | Deviance | Resid. Df | Resid. Dev | Pr(>Chi) | \n",
       "|---|---|\n",
       "| NULL | NA           |      NA      | 4063         | 5082.330     |           NA | \n",
       "| target_class | 14           | 175.033      | 4049         | 4907.297     | 6.572631e-30 | \n",
       "\n",
       "\n"
      ],
      "text/plain": [
       "             Df Deviance Resid. Df Resid. Dev Pr(>Chi)    \n",
       "NULL         NA      NA  4063      5082.330             NA\n",
       "target_class 14 175.033  4049      4907.297   6.572631e-30"
      ]
     },
     "metadata": {},
     "output_type": "display_data"
    }
   ],
   "source": [
    "g = glm(clinical.outcome ~ target_class, all.data, \n",
    "        family = binomial(link = \"logit\"))\n",
    "summary(g)\n",
    "anova(g, test = \"Chisq\")"
   ]
  },
  {
   "cell_type": "code",
   "execution_count": 158,
   "metadata": {},
   "outputs": [
    {
     "data": {
      "text/plain": [
       "\n",
       "Call:\n",
       "glm(formula = clinical.outcome ~ topology_type, family = binomial(link = \"logit\"), \n",
       "    data = all.data)\n",
       "\n",
       "Deviance Residuals: \n",
       "    Min       1Q   Median       3Q      Max  \n",
       "-1.0467  -0.9520  -0.7557   1.4210   1.6699  \n",
       "\n",
       "Coefficients:\n",
       "                        Estimate Std. Error z value Pr(>|z|)    \n",
       "(Intercept)              -0.3154     0.1070  -2.947   0.0032 ** \n",
       "topology_typeMultiTM     -0.2410     0.1180  -2.043   0.0410 *  \n",
       "topology_typeSecreted    -0.6377     0.1409  -4.526 6.00e-06 ***\n",
       "topology_typeSingleTM    -0.7919     0.1421  -5.571 2.53e-08 ***\n",
       "topology_typeUnattached  -0.7939     0.1364  -5.820 5.87e-09 ***\n",
       "---\n",
       "Signif. codes:  0 '***' 0.001 '**' 0.01 '*' 0.05 '.' 0.1 ' ' 1\n",
       "\n",
       "(Dispersion parameter for binomial family taken to be 1)\n",
       "\n",
       "    Null deviance: 5082.3  on 4063  degrees of freedom\n",
       "Residual deviance: 5012.0  on 4059  degrees of freedom\n",
       "AIC: 5022\n",
       "\n",
       "Number of Fisher Scoring iterations: 4\n"
      ]
     },
     "metadata": {},
     "output_type": "display_data"
    },
    {
     "data": {
      "text/html": [
       "<table>\n",
       "<thead><tr><th></th><th scope=col>Df</th><th scope=col>Deviance</th><th scope=col>Resid. Df</th><th scope=col>Resid. Dev</th><th scope=col>Pr(&gt;Chi)</th></tr></thead>\n",
       "<tbody>\n",
       "\t<tr><th scope=row>NULL</th><td>NA          </td><td>      NA    </td><td>4063        </td><td>5082.330    </td><td>          NA</td></tr>\n",
       "\t<tr><th scope=row>topology_type</th><td> 4          </td><td>70.36218    </td><td>4059        </td><td>5011.967    </td><td>1.903393e-14</td></tr>\n",
       "</tbody>\n",
       "</table>\n"
      ],
      "text/latex": [
       "\\begin{tabular}{r|lllll}\n",
       "  & Df & Deviance & Resid. Df & Resid. Dev & Pr(>Chi)\\\\\n",
       "\\hline\n",
       "\tNULL & NA           &       NA     & 4063         & 5082.330     &           NA\\\\\n",
       "\ttopology\\_type &  4           & 70.36218     & 4059         & 5011.967     & 1.903393e-14\\\\\n",
       "\\end{tabular}\n"
      ],
      "text/markdown": [
       "\n",
       "| <!--/--> | Df | Deviance | Resid. Df | Resid. Dev | Pr(>Chi) | \n",
       "|---|---|\n",
       "| NULL | NA           |       NA     | 4063         | 5082.330     |           NA | \n",
       "| topology_type |  4           | 70.36218     | 4059         | 5011.967     | 1.903393e-14 | \n",
       "\n",
       "\n"
      ],
      "text/plain": [
       "              Df Deviance Resid. Df Resid. Dev Pr(>Chi)    \n",
       "NULL          NA       NA 4063      5082.330             NA\n",
       "topology_type  4 70.36218 4059      5011.967   1.903393e-14"
      ]
     },
     "metadata": {},
     "output_type": "display_data"
    }
   ],
   "source": [
    "g = glm(clinical.outcome ~ topology_type, all.data, \n",
    "        family = binomial(link = \"logit\"))\n",
    "summary(g)\n",
    "anova(g, test = \"Chisq\")"
   ]
  },
  {
   "cell_type": "code",
   "execution_count": 159,
   "metadata": {},
   "outputs": [
    {
     "data": {
      "text/plain": [
       "\n",
       "Call:\n",
       "glm(formula = clinical.outcome ~ target_location, family = binomial(link = \"logit\"), \n",
       "    data = all.data)\n",
       "\n",
       "Deviance Residuals: \n",
       "    Min       1Q   Median       3Q      Max  \n",
       "-1.0782  -0.8878  -0.8075   1.4978   1.7427  \n",
       "\n",
       "Coefficients:\n",
       "                             Estimate Std. Error z value Pr(>|z|)    \n",
       "(Intercept)                   -1.2712     0.1668  -7.619 2.55e-14 ***\n",
       "target_locationExposed         0.5436     0.1730   3.143  0.00168 ** \n",
       "target_locationFree            0.3180     0.1904   1.671  0.09475 .  \n",
       "target_locationMitochondrion   1.0333     0.2335   4.425 9.65e-06 ***\n",
       "target_locationNucleus         0.1226     0.2012   0.609  0.54239    \n",
       "target_locationOrganelle       0.8793     0.1905   4.615 3.93e-06 ***\n",
       "---\n",
       "Signif. codes:  0 '***' 0.001 '**' 0.01 '*' 0.05 '.' 0.1 ' ' 1\n",
       "\n",
       "(Dispersion parameter for binomial family taken to be 1)\n",
       "\n",
       "    Null deviance: 5082.3  on 4063  degrees of freedom\n",
       "Residual deviance: 5028.8  on 4058  degrees of freedom\n",
       "AIC: 5040.8\n",
       "\n",
       "Number of Fisher Scoring iterations: 4\n"
      ]
     },
     "metadata": {},
     "output_type": "display_data"
    },
    {
     "data": {
      "text/html": [
       "<table>\n",
       "<thead><tr><th></th><th scope=col>Df</th><th scope=col>Deviance</th><th scope=col>Resid. Df</th><th scope=col>Resid. Dev</th><th scope=col>Pr(&gt;Chi)</th></tr></thead>\n",
       "<tbody>\n",
       "\t<tr><th scope=row>NULL</th><td>NA          </td><td>      NA    </td><td>4063        </td><td>5082.330    </td><td>          NA</td></tr>\n",
       "\t<tr><th scope=row>target_location</th><td> 5          </td><td>53.48264    </td><td>4058        </td><td>5028.847    </td><td>2.677045e-10</td></tr>\n",
       "</tbody>\n",
       "</table>\n"
      ],
      "text/latex": [
       "\\begin{tabular}{r|lllll}\n",
       "  & Df & Deviance & Resid. Df & Resid. Dev & Pr(>Chi)\\\\\n",
       "\\hline\n",
       "\tNULL & NA           &       NA     & 4063         & 5082.330     &           NA\\\\\n",
       "\ttarget\\_location &  5           & 53.48264     & 4058         & 5028.847     & 2.677045e-10\\\\\n",
       "\\end{tabular}\n"
      ],
      "text/markdown": [
       "\n",
       "| <!--/--> | Df | Deviance | Resid. Df | Resid. Dev | Pr(>Chi) | \n",
       "|---|---|\n",
       "| NULL | NA           |       NA     | 4063         | 5082.330     |           NA | \n",
       "| target_location |  5           | 53.48264     | 4058         | 5028.847     | 2.677045e-10 | \n",
       "\n",
       "\n"
      ],
      "text/plain": [
       "                Df Deviance Resid. Df Resid. Dev Pr(>Chi)    \n",
       "NULL            NA       NA 4063      5082.330             NA\n",
       "target_location  5 53.48264 4058      5028.847   2.677045e-10"
      ]
     },
     "metadata": {},
     "output_type": "display_data"
    }
   ],
   "source": [
    "g = glm(clinical.outcome ~ target_location, all.data, \n",
    "        family = binomial(link = \"logit\"))\n",
    "summary(g)\n",
    "anova(g, test = \"Chisq\")"
   ]
  },
  {
   "cell_type": "code",
   "execution_count": 160,
   "metadata": {},
   "outputs": [
    {
     "data": {
      "text/plain": [
       "\n",
       "Call:\n",
       "glm(formula = clinical.outcome ~ ExAC_LoF, family = binomial(link = \"logit\"), \n",
       "    data = all.data)\n",
       "\n",
       "Deviance Residuals: \n",
       "    Min       1Q   Median       3Q      Max  \n",
       "-1.0383  -0.8965  -0.8854   1.4871   1.6532  \n",
       "\n",
       "Coefficients:\n",
       "                        Estimate Std. Error z value Pr(>|z|)    \n",
       "(Intercept)             -0.73428    0.06232 -11.782  < 2e-16 ***\n",
       "ExAC_LoFMissing          0.39781    0.21620   1.840  0.06576 .  \n",
       "ExAC_LoFTolerant to LoF -0.33791    0.10669  -3.167  0.00154 ** \n",
       "ExAC_LoFUnclassified     0.03036    0.07774   0.390  0.69618    \n",
       "---\n",
       "Signif. codes:  0 '***' 0.001 '**' 0.01 '*' 0.05 '.' 0.1 ' ' 1\n",
       "\n",
       "(Dispersion parameter for binomial family taken to be 1)\n",
       "\n",
       "    Null deviance: 5082.3  on 4063  degrees of freedom\n",
       "Residual deviance: 5063.0  on 4060  degrees of freedom\n",
       "AIC: 5071\n",
       "\n",
       "Number of Fisher Scoring iterations: 4\n"
      ]
     },
     "metadata": {},
     "output_type": "display_data"
    },
    {
     "data": {
      "text/html": [
       "<table>\n",
       "<thead><tr><th></th><th scope=col>Df</th><th scope=col>Deviance</th><th scope=col>Resid. Df</th><th scope=col>Resid. Dev</th><th scope=col>Pr(&gt;Chi)</th></tr></thead>\n",
       "<tbody>\n",
       "\t<tr><th scope=row>NULL</th><td>NA          </td><td>      NA    </td><td>4063        </td><td>5082.330    </td><td>          NA</td></tr>\n",
       "\t<tr><th scope=row>ExAC_LoF</th><td> 3          </td><td>19.30799    </td><td>4060        </td><td>5063.022    </td><td>0.0002360979</td></tr>\n",
       "</tbody>\n",
       "</table>\n"
      ],
      "text/latex": [
       "\\begin{tabular}{r|lllll}\n",
       "  & Df & Deviance & Resid. Df & Resid. Dev & Pr(>Chi)\\\\\n",
       "\\hline\n",
       "\tNULL & NA           &       NA     & 4063         & 5082.330     &           NA\\\\\n",
       "\tExAC\\_LoF &  3           & 19.30799     & 4060         & 5063.022     & 0.0002360979\\\\\n",
       "\\end{tabular}\n"
      ],
      "text/markdown": [
       "\n",
       "| <!--/--> | Df | Deviance | Resid. Df | Resid. Dev | Pr(>Chi) | \n",
       "|---|---|\n",
       "| NULL | NA           |       NA     | 4063         | 5082.330     |           NA | \n",
       "| ExAC_LoF |  3           | 19.30799     | 4060         | 5063.022     | 0.0002360979 | \n",
       "\n",
       "\n"
      ],
      "text/plain": [
       "         Df Deviance Resid. Df Resid. Dev Pr(>Chi)    \n",
       "NULL     NA       NA 4063      5082.330             NA\n",
       "ExAC_LoF  3 19.30799 4060      5063.022   0.0002360979"
      ]
     },
     "metadata": {},
     "output_type": "display_data"
    }
   ],
   "source": [
    "g = glm(clinical.outcome ~ ExAC_LoF, all.data, \n",
    "        family = binomial(link = \"logit\"))\n",
    "summary(g)\n",
    "anova(g, test = \"Chisq\")"
   ]
  },
  {
   "cell_type": "markdown",
   "metadata": {},
   "source": [
    "## Save the main analysis dataset as an RData file"
   ]
  },
  {
   "cell_type": "code",
   "execution_count": 161,
   "metadata": {
    "collapsed": true
   },
   "outputs": [],
   "source": [
    "save(all.data, file = \"datathon_OTdata.RData\", compress = TRUE)"
   ]
  },
  {
   "cell_type": "markdown",
   "metadata": {},
   "source": [
    "## Example prediction model\n",
    "### Backwards stepwise regression\n"
   ]
  },
  {
   "cell_type": "code",
   "execution_count": 162,
   "metadata": {
    "collapsed": true
   },
   "outputs": [],
   "source": [
    "set.seed(6475250)\n",
    "train.select = sample(1:nrow(all.data), size = nrow(all.data) * 0.8, \n",
    "                      replace = FALSE)\n",
    "train.data = all.data[train.select,]\n",
    "test.data = subset(all.data, !(key %in% train.data$key))"
   ]
  },
  {
   "cell_type": "code",
   "execution_count": 163,
   "metadata": {},
   "outputs": [
    {
     "data": {
      "text/html": [
       "<table>\n",
       "<thead><tr><th></th><th scope=col>Df</th><th scope=col>Deviance</th><th scope=col>Resid. Df</th><th scope=col>Resid. Dev</th><th scope=col>Pr(&gt;Chi)</th></tr></thead>\n",
       "<tbody>\n",
       "\t<tr><th scope=row>NULL</th><td>NA          </td><td>          NA</td><td>3250        </td><td>4058.658    </td><td>          NA</td></tr>\n",
       "\t<tr><th scope=row>genetic_association.pos</th><td> 1          </td><td>2.787913e+00</td><td>3249        </td><td>4055.870    </td><td>9.497785e-02</td></tr>\n",
       "\t<tr><th scope=row>expression_score.pos</th><td> 1          </td><td>2.587386e+01</td><td>3248        </td><td>4029.997    </td><td>3.644709e-07</td></tr>\n",
       "\t<tr><th scope=row>animal_model.pos</th><td> 1          </td><td>4.634689e-01</td><td>3247        </td><td>4029.533    </td><td>4.960072e-01</td></tr>\n",
       "\t<tr><th scope=row>literature.pos</th><td> 1          </td><td>1.212461e+00</td><td>3246        </td><td>4028.321    </td><td>2.708452e-01</td></tr>\n",
       "\t<tr><th scope=row>gwas_catalog.pos</th><td> 1          </td><td>9.557707e+00</td><td>3245        </td><td>4018.763    </td><td>1.991116e-03</td></tr>\n",
       "\t<tr><th scope=row>uniprot_literature.pos</th><td> 1          </td><td>2.892674e-03</td><td>3244        </td><td>4018.760    </td><td>9.571076e-01</td></tr>\n",
       "\t<tr><th scope=row>genomics_england.pos</th><td> 1          </td><td>1.417754e+00</td><td>3243        </td><td>4017.342    </td><td>2.337734e-01</td></tr>\n",
       "\t<tr><th scope=row>gene2phenotype.pos</th><td> 1          </td><td>3.976117e-01</td><td>3242        </td><td>4016.945    </td><td>5.283253e-01</td></tr>\n",
       "\t<tr><th scope=row>reactome.pos</th><td> 1          </td><td>9.262695e-01</td><td>3241        </td><td>4016.018    </td><td>3.358342e-01</td></tr>\n",
       "\t<tr><th scope=row>slapenrich.pos</th><td> 1          </td><td>1.025964e+00</td><td>3240        </td><td>4014.992    </td><td>3.111085e-01</td></tr>\n",
       "\t<tr><th scope=row>phenodigm.pos</th><td> 0          </td><td>0.000000e+00</td><td>3240        </td><td>4014.992    </td><td>          NA</td></tr>\n",
       "\t<tr><th scope=row>europepmc.pos</th><td> 0          </td><td>0.000000e+00</td><td>3240        </td><td>4014.992    </td><td>          NA</td></tr>\n",
       "\t<tr><th scope=row>pc_mouse_gene_identity.pos</th><td> 1          </td><td>2.264431e+01</td><td>3239        </td><td>3992.348    </td><td>1.949367e-06</td></tr>\n",
       "\t<tr><th scope=row>GTEX_median_all_tissues.pos</th><td> 1          </td><td>7.932390e+00</td><td>3238        </td><td>3984.416    </td><td>4.855761e-03</td></tr>\n",
       "\t<tr><th scope=row>pcred</th><td>19          </td><td>3.453882e+02</td><td>3219        </td><td>3639.028    </td><td>9.160902e-62</td></tr>\n",
       "\t<tr><th scope=row>target_class</th><td>14          </td><td>5.637783e+01</td><td>3205        </td><td>3582.650    </td><td>5.012276e-07</td></tr>\n",
       "\t<tr><th scope=row>topology_type</th><td> 4          </td><td>2.786617e+01</td><td>3201        </td><td>3554.784    </td><td>1.327662e-05</td></tr>\n",
       "\t<tr><th scope=row>target_location</th><td> 4          </td><td>2.321013e+00</td><td>3197        </td><td>3552.463    </td><td>6.769459e-01</td></tr>\n",
       "\t<tr><th scope=row>ExAC_LoF</th><td> 3          </td><td>1.239957e+00</td><td>3194        </td><td>3551.223    </td><td>7.434378e-01</td></tr>\n",
       "</tbody>\n",
       "</table>\n"
      ],
      "text/latex": [
       "\\begin{tabular}{r|lllll}\n",
       "  & Df & Deviance & Resid. Df & Resid. Dev & Pr(>Chi)\\\\\n",
       "\\hline\n",
       "\tNULL & NA           &           NA & 3250         & 4058.658     &           NA\\\\\n",
       "\tgenetic\\_association.pos &  1           & 2.787913e+00 & 3249         & 4055.870     & 9.497785e-02\\\\\n",
       "\texpression\\_score.pos &  1           & 2.587386e+01 & 3248         & 4029.997     & 3.644709e-07\\\\\n",
       "\tanimal\\_model.pos &  1           & 4.634689e-01 & 3247         & 4029.533     & 4.960072e-01\\\\\n",
       "\tliterature.pos &  1           & 1.212461e+00 & 3246         & 4028.321     & 2.708452e-01\\\\\n",
       "\tgwas\\_catalog.pos &  1           & 9.557707e+00 & 3245         & 4018.763     & 1.991116e-03\\\\\n",
       "\tuniprot\\_literature.pos &  1           & 2.892674e-03 & 3244         & 4018.760     & 9.571076e-01\\\\\n",
       "\tgenomics\\_england.pos &  1           & 1.417754e+00 & 3243         & 4017.342     & 2.337734e-01\\\\\n",
       "\tgene2phenotype.pos &  1           & 3.976117e-01 & 3242         & 4016.945     & 5.283253e-01\\\\\n",
       "\treactome.pos &  1           & 9.262695e-01 & 3241         & 4016.018     & 3.358342e-01\\\\\n",
       "\tslapenrich.pos &  1           & 1.025964e+00 & 3240         & 4014.992     & 3.111085e-01\\\\\n",
       "\tphenodigm.pos &  0           & 0.000000e+00 & 3240         & 4014.992     &           NA\\\\\n",
       "\teuropepmc.pos &  0           & 0.000000e+00 & 3240         & 4014.992     &           NA\\\\\n",
       "\tpc\\_mouse\\_gene\\_identity.pos &  1           & 2.264431e+01 & 3239         & 3992.348     & 1.949367e-06\\\\\n",
       "\tGTEX\\_median\\_all\\_tissues.pos &  1           & 7.932390e+00 & 3238         & 3984.416     & 4.855761e-03\\\\\n",
       "\tpcred & 19           & 3.453882e+02 & 3219         & 3639.028     & 9.160902e-62\\\\\n",
       "\ttarget\\_class & 14           & 5.637783e+01 & 3205         & 3582.650     & 5.012276e-07\\\\\n",
       "\ttopology\\_type &  4           & 2.786617e+01 & 3201         & 3554.784     & 1.327662e-05\\\\\n",
       "\ttarget\\_location &  4           & 2.321013e+00 & 3197         & 3552.463     & 6.769459e-01\\\\\n",
       "\tExAC\\_LoF &  3           & 1.239957e+00 & 3194         & 3551.223     & 7.434378e-01\\\\\n",
       "\\end{tabular}\n"
      ],
      "text/markdown": [
       "\n",
       "| <!--/--> | Df | Deviance | Resid. Df | Resid. Dev | Pr(>Chi) | \n",
       "|---|---|---|---|---|---|---|---|---|---|---|---|---|---|---|---|---|---|---|---|\n",
       "| NULL | NA           |           NA | 3250         | 4058.658     |           NA | \n",
       "| genetic_association.pos |  1           | 2.787913e+00 | 3249         | 4055.870     | 9.497785e-02 | \n",
       "| expression_score.pos |  1           | 2.587386e+01 | 3248         | 4029.997     | 3.644709e-07 | \n",
       "| animal_model.pos |  1           | 4.634689e-01 | 3247         | 4029.533     | 4.960072e-01 | \n",
       "| literature.pos |  1           | 1.212461e+00 | 3246         | 4028.321     | 2.708452e-01 | \n",
       "| gwas_catalog.pos |  1           | 9.557707e+00 | 3245         | 4018.763     | 1.991116e-03 | \n",
       "| uniprot_literature.pos |  1           | 2.892674e-03 | 3244         | 4018.760     | 9.571076e-01 | \n",
       "| genomics_england.pos |  1           | 1.417754e+00 | 3243         | 4017.342     | 2.337734e-01 | \n",
       "| gene2phenotype.pos |  1           | 3.976117e-01 | 3242         | 4016.945     | 5.283253e-01 | \n",
       "| reactome.pos |  1           | 9.262695e-01 | 3241         | 4016.018     | 3.358342e-01 | \n",
       "| slapenrich.pos |  1           | 1.025964e+00 | 3240         | 4014.992     | 3.111085e-01 | \n",
       "| phenodigm.pos |  0           | 0.000000e+00 | 3240         | 4014.992     |           NA | \n",
       "| europepmc.pos |  0           | 0.000000e+00 | 3240         | 4014.992     |           NA | \n",
       "| pc_mouse_gene_identity.pos |  1           | 2.264431e+01 | 3239         | 3992.348     | 1.949367e-06 | \n",
       "| GTEX_median_all_tissues.pos |  1           | 7.932390e+00 | 3238         | 3984.416     | 4.855761e-03 | \n",
       "| pcred | 19           | 3.453882e+02 | 3219         | 3639.028     | 9.160902e-62 | \n",
       "| target_class | 14           | 5.637783e+01 | 3205         | 3582.650     | 5.012276e-07 | \n",
       "| topology_type |  4           | 2.786617e+01 | 3201         | 3554.784     | 1.327662e-05 | \n",
       "| target_location |  4           | 2.321013e+00 | 3197         | 3552.463     | 6.769459e-01 | \n",
       "| ExAC_LoF |  3           | 1.239957e+00 | 3194         | 3551.223     | 7.434378e-01 | \n",
       "\n",
       "\n"
      ],
      "text/plain": [
       "                            Df Deviance     Resid. Df Resid. Dev Pr(>Chi)    \n",
       "NULL                        NA           NA 3250      4058.658             NA\n",
       "genetic_association.pos      1 2.787913e+00 3249      4055.870   9.497785e-02\n",
       "expression_score.pos         1 2.587386e+01 3248      4029.997   3.644709e-07\n",
       "animal_model.pos             1 4.634689e-01 3247      4029.533   4.960072e-01\n",
       "literature.pos               1 1.212461e+00 3246      4028.321   2.708452e-01\n",
       "gwas_catalog.pos             1 9.557707e+00 3245      4018.763   1.991116e-03\n",
       "uniprot_literature.pos       1 2.892674e-03 3244      4018.760   9.571076e-01\n",
       "genomics_england.pos         1 1.417754e+00 3243      4017.342   2.337734e-01\n",
       "gene2phenotype.pos           1 3.976117e-01 3242      4016.945   5.283253e-01\n",
       "reactome.pos                 1 9.262695e-01 3241      4016.018   3.358342e-01\n",
       "slapenrich.pos               1 1.025964e+00 3240      4014.992   3.111085e-01\n",
       "phenodigm.pos                0 0.000000e+00 3240      4014.992             NA\n",
       "europepmc.pos                0 0.000000e+00 3240      4014.992             NA\n",
       "pc_mouse_gene_identity.pos   1 2.264431e+01 3239      3992.348   1.949367e-06\n",
       "GTEX_median_all_tissues.pos  1 7.932390e+00 3238      3984.416   4.855761e-03\n",
       "pcred                       19 3.453882e+02 3219      3639.028   9.160902e-62\n",
       "target_class                14 5.637783e+01 3205      3582.650   5.012276e-07\n",
       "topology_type                4 2.786617e+01 3201      3554.784   1.327662e-05\n",
       "target_location              4 2.321013e+00 3197      3552.463   6.769459e-01\n",
       "ExAC_LoF                     3 1.239957e+00 3194      3551.223   7.434378e-01"
      ]
     },
     "metadata": {},
     "output_type": "display_data"
    }
   ],
   "source": [
    "indep.vars = c(pos.score.vars, pos.gene.qvars,\n",
    "               \"pcred\", \"target_class\", \"topology_type\", \n",
    "               \"target_location\", \"ExAC_LoF\")\n",
    "## Eliminate those that are too rare to be robust and the known drug (chembl) information (cheating)\n",
    "indep.vars = indep.vars[!(indep.vars %in% \n",
    "                          c(\"overall_score.pos\", \"known_drug.pos\", \"affected_pathway.pos\",\n",
    "                           \"uniprot.pos\", \"eva.pos\", \"rna_expression.pos\", \"expression_atlas.pos\",\n",
    "                           \"phewas_catalog.pos\"))]\n",
    "full.glm = glm(clinical.outcome ~ ., train.data[, c(\"clinical.outcome\", indep.vars)],\n",
    "              family = binomial)\n",
    "anova(full.glm, test = \"Chisq\")"
   ]
  },
  {
   "cell_type": "code",
   "execution_count": 164,
   "metadata": {},
   "outputs": [
    {
     "data": {
      "text/html": [
       "<table>\n",
       "<thead><tr><th></th><th scope=col>Df</th><th scope=col>Deviance</th><th scope=col>Resid. Df</th><th scope=col>Resid. Dev</th><th scope=col>Pr(&gt;Chi)</th></tr></thead>\n",
       "<tbody>\n",
       "\t<tr><th scope=row>NULL</th><td>NA          </td><td>        NA  </td><td>3250        </td><td>4058.658    </td><td>          NA</td></tr>\n",
       "\t<tr><th scope=row>genetic_association.pos</th><td> 1          </td><td>  2.787913  </td><td>3249        </td><td>4055.870    </td><td>9.497785e-02</td></tr>\n",
       "\t<tr><th scope=row>expression_score.pos</th><td> 1          </td><td> 25.873863  </td><td>3248        </td><td>4029.997    </td><td>3.644709e-07</td></tr>\n",
       "\t<tr><th scope=row>gwas_catalog.pos</th><td> 1          </td><td>  9.697834  </td><td>3247        </td><td>4020.299    </td><td>1.844853e-03</td></tr>\n",
       "\t<tr><th scope=row>pcred</th><td>19          </td><td>372.635128  </td><td>3228        </td><td>3647.664    </td><td>2.108716e-67</td></tr>\n",
       "\t<tr><th scope=row>target_class</th><td>14          </td><td> 63.213543  </td><td>3214        </td><td>3584.450    </td><td>3.180536e-08</td></tr>\n",
       "\t<tr><th scope=row>topology_type</th><td> 4          </td><td> 26.850235  </td><td>3210        </td><td>3557.600    </td><td>2.131400e-05</td></tr>\n",
       "</tbody>\n",
       "</table>\n"
      ],
      "text/latex": [
       "\\begin{tabular}{r|lllll}\n",
       "  & Df & Deviance & Resid. Df & Resid. Dev & Pr(>Chi)\\\\\n",
       "\\hline\n",
       "\tNULL & NA           &         NA   & 3250         & 4058.658     &           NA\\\\\n",
       "\tgenetic\\_association.pos &  1           &   2.787913   & 3249         & 4055.870     & 9.497785e-02\\\\\n",
       "\texpression\\_score.pos &  1           &  25.873863   & 3248         & 4029.997     & 3.644709e-07\\\\\n",
       "\tgwas\\_catalog.pos &  1           &   9.697834   & 3247         & 4020.299     & 1.844853e-03\\\\\n",
       "\tpcred & 19           & 372.635128   & 3228         & 3647.664     & 2.108716e-67\\\\\n",
       "\ttarget\\_class & 14           &  63.213543   & 3214         & 3584.450     & 3.180536e-08\\\\\n",
       "\ttopology\\_type &  4           &  26.850235   & 3210         & 3557.600     & 2.131400e-05\\\\\n",
       "\\end{tabular}\n"
      ],
      "text/markdown": [
       "\n",
       "| <!--/--> | Df | Deviance | Resid. Df | Resid. Dev | Pr(>Chi) | \n",
       "|---|---|---|---|---|---|---|\n",
       "| NULL | NA           |         NA   | 3250         | 4058.658     |           NA | \n",
       "| genetic_association.pos |  1           |   2.787913   | 3249         | 4055.870     | 9.497785e-02 | \n",
       "| expression_score.pos |  1           |  25.873863   | 3248         | 4029.997     | 3.644709e-07 | \n",
       "| gwas_catalog.pos |  1           |   9.697834   | 3247         | 4020.299     | 1.844853e-03 | \n",
       "| pcred | 19           | 372.635128   | 3228         | 3647.664     | 2.108716e-67 | \n",
       "| target_class | 14           |  63.213543   | 3214         | 3584.450     | 3.180536e-08 | \n",
       "| topology_type |  4           |  26.850235   | 3210         | 3557.600     | 2.131400e-05 | \n",
       "\n",
       "\n"
      ],
      "text/plain": [
       "                        Df Deviance   Resid. Df Resid. Dev Pr(>Chi)    \n",
       "NULL                    NA         NA 3250      4058.658             NA\n",
       "genetic_association.pos  1   2.787913 3249      4055.870   9.497785e-02\n",
       "expression_score.pos     1  25.873863 3248      4029.997   3.644709e-07\n",
       "gwas_catalog.pos         1   9.697834 3247      4020.299   1.844853e-03\n",
       "pcred                   19 372.635128 3228      3647.664   2.108716e-67\n",
       "target_class            14  63.213543 3214      3584.450   3.180536e-08\n",
       "topology_type            4  26.850235 3210      3557.600   2.131400e-05"
      ]
     },
     "metadata": {},
     "output_type": "display_data"
    }
   ],
   "source": [
    "back.glm = step(full.glm, trace = 0)\n",
    "anova(back.glm, test = \"Chisq\")"
   ]
  },
  {
   "cell_type": "markdown",
   "metadata": {},
   "source": [
    "For comparison, here's the result of the forward stepwise selection.  It does not retain any of the Target-indication information."
   ]
  },
  {
   "cell_type": "code",
   "execution_count": 165,
   "metadata": {},
   "outputs": [
    {
     "data": {
      "text/html": [
       "<table>\n",
       "<thead><tr><th></th><th scope=col>Df</th><th scope=col>Deviance</th><th scope=col>Resid. Df</th><th scope=col>Resid. Dev</th><th scope=col>Pr(&gt;Chi)</th></tr></thead>\n",
       "<tbody>\n",
       "\t<tr><th scope=row>NULL</th><td>NA          </td><td>       NA   </td><td>3250        </td><td>4058.658    </td><td>          NA</td></tr>\n",
       "\t<tr><th scope=row>pcred</th><td>19          </td><td>362.08369   </td><td>3231        </td><td>3696.575    </td><td>3.234423e-65</td></tr>\n",
       "\t<tr><th scope=row>target_class</th><td>14          </td><td> 71.65409   </td><td>3217        </td><td>3624.921    </td><td>9.667941e-10</td></tr>\n",
       "\t<tr><th scope=row>topology_type</th><td> 4          </td><td> 28.08843   </td><td>3213        </td><td>3596.832    </td><td>1.196862e-05</td></tr>\n",
       "\t<tr><th scope=row>expression_score.pos</th><td> 1          </td><td> 18.59139   </td><td>3212        </td><td>3578.241    </td><td>1.619507e-05</td></tr>\n",
       "\t<tr><th scope=row>genomics_england.pos</th><td> 1          </td><td> 15.26273   </td><td>3211        </td><td>3562.978    </td><td>9.354418e-05</td></tr>\n",
       "</tbody>\n",
       "</table>\n"
      ],
      "text/latex": [
       "\\begin{tabular}{r|lllll}\n",
       "  & Df & Deviance & Resid. Df & Resid. Dev & Pr(>Chi)\\\\\n",
       "\\hline\n",
       "\tNULL & NA           &        NA    & 3250         & 4058.658     &           NA\\\\\n",
       "\tpcred & 19           & 362.08369    & 3231         & 3696.575     & 3.234423e-65\\\\\n",
       "\ttarget\\_class & 14           &  71.65409    & 3217         & 3624.921     & 9.667941e-10\\\\\n",
       "\ttopology\\_type &  4           &  28.08843    & 3213         & 3596.832     & 1.196862e-05\\\\\n",
       "\texpression\\_score.pos &  1           &  18.59139    & 3212         & 3578.241     & 1.619507e-05\\\\\n",
       "\tgenomics\\_england.pos &  1           &  15.26273    & 3211         & 3562.978     & 9.354418e-05\\\\\n",
       "\\end{tabular}\n"
      ],
      "text/markdown": [
       "\n",
       "| <!--/--> | Df | Deviance | Resid. Df | Resid. Dev | Pr(>Chi) | \n",
       "|---|---|---|---|---|---|\n",
       "| NULL | NA           |        NA    | 3250         | 4058.658     |           NA | \n",
       "| pcred | 19           | 362.08369    | 3231         | 3696.575     | 3.234423e-65 | \n",
       "| target_class | 14           |  71.65409    | 3217         | 3624.921     | 9.667941e-10 | \n",
       "| topology_type |  4           |  28.08843    | 3213         | 3596.832     | 1.196862e-05 | \n",
       "| expression_score.pos |  1           |  18.59139    | 3212         | 3578.241     | 1.619507e-05 | \n",
       "| genomics_england.pos |  1           |  15.26273    | 3211         | 3562.978     | 9.354418e-05 | \n",
       "\n",
       "\n"
      ],
      "text/plain": [
       "                     Df Deviance  Resid. Df Resid. Dev Pr(>Chi)    \n",
       "NULL                 NA        NA 3250      4058.658             NA\n",
       "pcred                19 362.08369 3231      3696.575   3.234423e-65\n",
       "target_class         14  71.65409 3217      3624.921   9.667941e-10\n",
       "topology_type         4  28.08843 3213      3596.832   1.196862e-05\n",
       "expression_score.pos  1  18.59139 3212      3578.241   1.619507e-05\n",
       "genomics_england.pos  1  15.26273 3211      3562.978   9.354418e-05"
      ]
     },
     "metadata": {},
     "output_type": "display_data"
    }
   ],
   "source": [
    "null.glm = glm(clinical.outcome ~ 1, train.data, family = binomial)\n",
    "forward.glm = step(null.glm, \n",
    "                scope = list(lower = formula(null.glm),\n",
    "                            upper = formula(full.glm)),\n",
    "                direction = \"forward\", trace = 0)\n",
    "anova(forward.glm, test = \"Chisq\")"
   ]
  },
  {
   "cell_type": "markdown",
   "metadata": {},
   "source": [
    "Let's take a look at the estimates of the probabilities of success for the failed and successful target-indication pairs for the training and testing data sets."
   ]
  },
  {
   "cell_type": "code",
   "execution_count": 166,
   "metadata": {
    "collapsed": true
   },
   "outputs": [],
   "source": [
    "test.data$pred.prob = predict(back.glm, newdata = test.data, \n",
    "                            type = \"response\")\n",
    "train.data$pred.prob = predict(back.glm, newdata = train.data, \n",
    "                              type = \"response\")"
   ]
  },
  {
   "cell_type": "code",
   "execution_count": 167,
   "metadata": {},
   "outputs": [
    {
     "data": {
      "text/plain": [
       ": Failure\n",
       "   Min. 1st Qu.  Median    Mean 3rd Qu.    Max. \n",
       "0.01055 0.14633 0.22336 0.26958 0.36068 0.79590 \n",
       "------------------------------------------------------------ \n",
       ": Success\n",
       "   Min. 1st Qu.  Median    Mean 3rd Qu.    Max. \n",
       "0.05106 0.23989 0.41994 0.41788 0.57511 0.80216 "
      ]
     },
     "metadata": {},
     "output_type": "display_data"
    }
   ],
   "source": [
    "by(train.data[, \"pred.prob\"], list(train.data$clinical.outcome), summary)"
   ]
  },
  {
   "cell_type": "code",
   "execution_count": 168,
   "metadata": {},
   "outputs": [
    {
     "data": {
      "text/plain": [
       ": Failure\n",
       "   Min. 1st Qu.  Median    Mean 3rd Qu.    Max. \n",
       "0.01055 0.15404 0.22444 0.27318 0.36068 0.80888 \n",
       "------------------------------------------------------------ \n",
       ": Success\n",
       "   Min. 1st Qu.  Median    Mean 3rd Qu.    Max. \n",
       "0.06506 0.28071 0.43494 0.43507 0.58749 0.85248 "
      ]
     },
     "metadata": {},
     "output_type": "display_data"
    }
   ],
   "source": [
    "by(test.data[, \"pred.prob\"], list(test.data$clinical.outcome), summary)"
   ]
  },
  {
   "cell_type": "markdown",
   "metadata": {},
   "source": [
    "There are several indications approved for many of the targets (drugs).  Let's check how these compare when we limit the results just to the first approved indication for a given target."
   ]
  },
  {
   "cell_type": "code",
   "execution_count": 169,
   "metadata": {},
   "outputs": [
    {
     "data": {
      "text/plain": [
       ": Failure\n",
       "   Min. 1st Qu.  Median    Mean 3rd Qu.    Max. \n",
       "0.01055 0.14633 0.22336 0.23923 0.25208 0.76777 \n",
       "------------------------------------------------------------ \n",
       ": Success\n",
       "   Min. 1st Qu.  Median    Mean 3rd Qu.    Max. \n",
       " 0.1371  0.2741  0.4431  0.4420  0.5885  0.7786 "
      ]
     },
     "metadata": {},
     "output_type": "display_data"
    }
   ],
   "source": [
    "lVec = test.data$Indication.with.First.Clinical.Outcome.for.Target %in% \"Y\"\n",
    "by(test.data[lVec, \"pred.prob\"], list(test.data$clinical.outcome[lVec]), summary)"
   ]
  },
  {
   "cell_type": "code",
   "execution_count": 170,
   "metadata": {
    "collapsed": true
   },
   "outputs": [],
   "source": [
    "train.data = train.data %>%\n",
    "    mutate(pred.outcome = ifelse(pred.prob >= 0.5, \"Success\", \"Failure\"))\n",
    "test.data = test.data %>%\n",
    "    mutate(pred.outcome = ifelse(pred.prob >= 0.5, \"Success\", \"Failure\"))"
   ]
  },
  {
   "cell_type": "markdown",
   "metadata": {},
   "source": [
    "Confusion matrices if we set a threshold of 0.5 to categorize the results as a success."
   ]
  },
  {
   "cell_type": "code",
   "execution_count": 171,
   "metadata": {},
   "outputs": [
    {
     "name": "stdout",
     "output_type": "stream",
     "text": [
      "train.data\n"
     ]
    },
    {
     "data": {
      "text/plain": [
       "                pred.outcome\n",
       "clinical.outcome Failure Success\n",
       "         Failure    1992     230\n",
       "         Success     671     358"
      ]
     },
     "metadata": {},
     "output_type": "display_data"
    },
    {
     "name": "stdout",
     "output_type": "stream",
     "text": [
      "test.data\n"
     ]
    },
    {
     "data": {
      "text/plain": [
       "                pred.outcome\n",
       "clinical.outcome Failure Success\n",
       "         Failure     497      53\n",
       "         Success     159     104"
      ]
     },
     "metadata": {},
     "output_type": "display_data"
    }
   ],
   "source": [
    "cat(\"train.data\\n\")\n",
    "xtabs(~ clinical.outcome + pred.outcome, train.data)\n",
    "cat(\"test.data\\n\")\n",
    "xtabs(~ clinical.outcome + pred.outcome, test.data)"
   ]
  },
  {
   "cell_type": "code",
   "execution_count": 172,
   "metadata": {},
   "outputs": [
    {
     "data": {
      "text/html": [
       "<dl class=dl-horizontal>\n",
       "\t<dt>auc.train</dt>\n",
       "\t\t<dd>0.733</dd>\n",
       "\t<dt>auc.test</dt>\n",
       "\t\t<dd>0.755</dd>\n",
       "</dl>\n"
      ],
      "text/latex": [
       "\\begin{description*}\n",
       "\\item[auc.train] 0.733\n",
       "\\item[auc.test] 0.755\n",
       "\\end{description*}\n"
      ],
      "text/markdown": [
       "auc.train\n",
       ":   0.733auc.test\n",
       ":   0.755\n",
       "\n"
      ],
      "text/plain": [
       "auc.train  auc.test \n",
       "    0.733     0.755 "
      ]
     },
     "metadata": {},
     "output_type": "display_data"
    },
    {
     "data": {
      "image/png": "[encoded data removed]",
      "text/plain": [
       "plot without title"
      ]
     },
     "metadata": {},
     "output_type": "display_data"
    }
   ],
   "source": [
    "## I just stole this code from Revolutions at\n",
    "## http://blog.revolutionanalytics.com/2016/11/calculating-auc.html\n",
    "simple_roc <- function(labels, scores){\n",
    "  labels <- labels[order(scores, decreasing=TRUE)]\n",
    "  data.frame(TPR=cumsum(labels)/sum(labels), FPR=cumsum(!labels)/sum(!labels), labels)\n",
    "}\n",
    "\n",
    "simple_auc <- function(TPR, FPR){\n",
    "  # inputs already sorted, best scores first \n",
    "  dFPR <- c(diff(FPR), 0)\n",
    "  dTPR <- c(diff(TPR), 0)\n",
    "  sum(TPR * dFPR) + sum(dTPR * dFPR)/2\n",
    "}\n",
    "\n",
    "roc.train = simple_roc(train.data$clinical.outcome %in% \"Success\",\n",
    "                      train.data$pred.prob)\n",
    "roc.test = simple_roc(test.data$clinical.outcome %in% \"Success\",\n",
    "                      test.data$pred.prob)\n",
    "plot(TPR ~ 1 - FPR, roc.train, type = \"l\", lwd = 2, col = \"blue\")\n",
    "lines(TPR ~ 1 - FPR, roc.test, lwd = 2, col = \"red\")\n",
    "abline(0, 1)\n",
    "\n",
    "auc.train = simple_auc(roc.train$TPR, roc.train$FPR)\n",
    "auc.test = simple_auc(roc.test$TPR, roc.test$FPR)\n",
    "round(c(auc.train = auc.train, auc.test = auc.test), 3)"
   ]
  },
  {
   "cell_type": "markdown",
   "metadata": {
    "collapsed": true
   },
   "source": [
    "## Some cautionary notes\n",
    "While the strategy of using the historical drug development record to fit models of target--indication success has many advantages, we also need to be aware of limitations in the data.  For example:\n",
    "* Less than 5% of protein--coding genes have ever been explored in the clinic\n",
    "* The proteins that have been explored in the clinic represent a very biased subset of the coding genes as a whole"
   ]
  },
  {
   "cell_type": "code",
   "execution_count": 173,
   "metadata": {},
   "outputs": [
    {
     "data": {
      "text/html": [
       "798"
      ],
      "text/latex": [
       "798"
      ],
      "text/markdown": [
       "798"
      ],
      "text/plain": [
       "[1] 798"
      ]
     },
     "metadata": {},
     "output_type": "display_data"
    },
    {
     "data": {
      "text/html": [
       "<table>\n",
       "<thead><tr><th scope=col>clinical.outcome</th><th scope=col>unique</th></tr></thead>\n",
       "<tbody>\n",
       "\t<tr><td>Failure</td><td>744    </td></tr>\n",
       "\t<tr><td>Success</td><td>329    </td></tr>\n",
       "</tbody>\n",
       "</table>\n"
      ],
      "text/latex": [
       "\\begin{tabular}{r|ll}\n",
       " clinical.outcome & unique\\\\\n",
       "\\hline\n",
       "\t Failure & 744    \\\\\n",
       "\t Success & 329    \\\\\n",
       "\\end{tabular}\n"
      ],
      "text/markdown": [
       "\n",
       "clinical.outcome | unique | \n",
       "|---|---|\n",
       "| Failure | 744     | \n",
       "| Success | 329     | \n",
       "\n",
       "\n"
      ],
      "text/plain": [
       "  clinical.outcome unique\n",
       "1 Failure          744   \n",
       "2 Success          329   "
      ]
     },
     "metadata": {},
     "output_type": "display_data"
    }
   ],
   "source": [
    "n_distinct(all.data$entrez_id)\n",
    "all.data  %>% \n",
    "    group_by(clinical.outcome) %>% \n",
    "    summarise(unique = n_distinct(entrez_id))"
   ]
  },
  {
   "cell_type": "markdown",
   "metadata": {},
   "source": [
    "* A modest number of diseases have been explored, and for a highly biased subset of corresponding targets"
   ]
  },
  {
   "cell_type": "code",
   "execution_count": 174,
   "metadata": {},
   "outputs": [
    {
     "data": {
      "text/html": [
       "403"
      ],
      "text/latex": [
       "403"
      ],
      "text/markdown": [
       "403"
      ],
      "text/plain": [
       "[1] 403"
      ]
     },
     "metadata": {},
     "output_type": "display_data"
    },
    {
     "data": {
      "text/html": [
       "<table>\n",
       "<thead><tr><th scope=col>clinical.outcome</th><th scope=col>unique</th></tr></thead>\n",
       "<tbody>\n",
       "\t<tr><td>Failure</td><td>312    </td></tr>\n",
       "\t<tr><td>Success</td><td>298    </td></tr>\n",
       "</tbody>\n",
       "</table>\n"
      ],
      "text/latex": [
       "\\begin{tabular}{r|ll}\n",
       " clinical.outcome & unique\\\\\n",
       "\\hline\n",
       "\t Failure & 312    \\\\\n",
       "\t Success & 298    \\\\\n",
       "\\end{tabular}\n"
      ],
      "text/markdown": [
       "\n",
       "clinical.outcome | unique | \n",
       "|---|---|\n",
       "| Failure | 312     | \n",
       "| Success | 298     | \n",
       "\n",
       "\n"
      ],
      "text/plain": [
       "  clinical.outcome unique\n",
       "1 Failure          312   \n",
       "2 Success          298   "
      ]
     },
     "metadata": {},
     "output_type": "display_data"
    }
   ],
   "source": [
    "n_distinct(all.data$MeSH_ID)\n",
    "all.data  %>% \n",
    "    group_by(clinical.outcome) %>% \n",
    "    summarise(unique = n_distinct(MeSH_ID))"
   ]
  },
  {
   "cell_type": "markdown",
   "metadata": {},
   "source": [
    "* Some indications have been pursued by a lot of targets"
   ]
  },
  {
   "cell_type": "code",
   "execution_count": 175,
   "metadata": {},
   "outputs": [
    {
     "data": {
      "image/png": "[encoded data removed]",
      "text/plain": [
       "plot without title"
      ]
     },
     "metadata": {},
     "output_type": "display_data"
    }
   ],
   "source": [
    "x <- table(as.character(all.data$entrez_id))\n",
    "g <- ggplot(data.frame(Ind = x), aes(Ind.Freq)) + geom_histogram(binwidth = 1) +\n",
    "    labs(x = \"Number of Unique Indications per Target\", y = \"Count\")\n",
    "print(g)"
   ]
  },
  {
   "cell_type": "markdown",
   "metadata": {},
   "source": [
    "* Some targets have been studied for lots of indications"
   ]
  },
  {
   "cell_type": "code",
   "execution_count": 176,
   "metadata": {},
   "outputs": [
    {
     "data": {
      "image/png": "[encoded data removed]",
      "text/plain": [
       "plot without title"
      ]
     },
     "metadata": {},
     "output_type": "display_data"
    }
   ],
   "source": [
    "x <- table(as.character(all.data$MeSH_ID))\n",
    "g <- ggplot(data.frame(Ind = x), aes(Ind.Freq)) + geom_histogram(binwidth = 1) +\n",
    "    labs(x = \"Number of Unique Targets per Indication\", y = \"Count\")\n",
    "print(g)"
   ]
  },
  {
   "cell_type": "markdown",
   "metadata": {},
   "source": [
    "* Targets that have been tried for a larger number of indications show a higher proportion of success, with a strong preference for indication adjacencies.  These could be considered as duplicates of one another"
   ]
  },
  {
   "cell_type": "code",
   "execution_count": 177,
   "metadata": {},
   "outputs": [
    {
     "data": {
      "image/png": "[encoded data removed]",
      "text/plain": [
       "plot without title"
      ]
     },
     "metadata": {},
     "output_type": "display_data"
    }
   ],
   "source": [
    "success.fxn = function(x) { sum(x %in% \"Success\")/length(x) }\n",
    "target.success = all.data %>% \n",
    "    group_by(entrez_id) %>%\n",
    "    summarise(ind.count = n_distinct(MeSH_ID), \n",
    "              target.success = success.fxn(clinical.outcome))\n",
    "g <- ggplot(target.success, aes(ind.count, target.success)) + geom_point() +\n",
    "    geom_smooth(method = \"loess\") + xlab(\"Number of Indications\")\n",
    "print(g)"
   ]
  },
  {
   "cell_type": "markdown",
   "metadata": {},
   "source": [
    "## Repeating simple logistic model without duplicate targets\n",
    "\n",
    "We can assess the robustness of our prediction model by repeating the logistic regression model selection on a subset of the data that retains only a single, randomly selected indication for each target."
   ]
  },
  {
   "cell_type": "code",
   "execution_count": 178,
   "metadata": {},
   "outputs": [
    {
     "data": {
      "text/plain": [
       " clinical.outcome   entrez_id            MeSH_ID      Train        \n",
       " Failure:651      Min.   :        2   D001172: 33   Mode :logical  \n",
       " Success:147      1st Qu.:     1820   D009190: 31   FALSE:148      \n",
       "                  Median :     3716   D011565: 27   TRUE :650      \n",
       "                  Mean   :   136739   D001249: 21                  \n",
       "                  3rd Qu.:     6366   D003924: 18                  \n",
       "                  Max.   :100133941   D000544: 17                  \n",
       "                                      (Other):651                  "
      ]
     },
     "metadata": {},
     "output_type": "display_data"
    }
   ],
   "source": [
    "## Create subset of all.data, randomly selecting one indication per target\n",
    "u.all.data = subset(all.data[sample(1:nrow(all.data)),],\n",
    "                   !duplicated(entrez_id))\n",
    "## Randomly select training and test set\n",
    "u.all.data$Train = sample(c(TRUE, FALSE), size = nrow(u.all.data), \n",
    "                          replace = TRUE, prob = c(0.8, 0.2))\n",
    "summary(u.all.data[, c(\"clinical.outcome\", \"entrez_id\", \"MeSH_ID\", \"Train\")])"
   ]
  },
  {
   "cell_type": "code",
   "execution_count": 179,
   "metadata": {},
   "outputs": [
    {
     "data": {
      "text/html": [
       "<table>\n",
       "<thead><tr><th></th><th scope=col>Df</th><th scope=col>Deviance</th><th scope=col>Resid. Df</th><th scope=col>Resid. Dev</th><th scope=col>Pr(&gt;Chi)</th></tr></thead>\n",
       "<tbody>\n",
       "\t<tr><th scope=row>NULL</th><td>NA          </td><td>       NA   </td><td>649         </td><td>612.8115    </td><td>          NA</td></tr>\n",
       "\t<tr><th scope=row>expression_score.pos</th><td> 1          </td><td> 7.801133   </td><td>648         </td><td>605.0104    </td><td>5.221349e-03</td></tr>\n",
       "\t<tr><th scope=row>uniprot_literature.pos</th><td> 1          </td><td>15.874205   </td><td>647         </td><td>589.1362    </td><td>6.769512e-05</td></tr>\n",
       "\t<tr><th scope=row>reactome.pos</th><td> 1          </td><td> 5.045345   </td><td>646         </td><td>584.0908    </td><td>2.469219e-02</td></tr>\n",
       "\t<tr><th scope=row>pc_mouse_gene_identity.pos</th><td> 1          </td><td> 3.796741   </td><td>645         </td><td>580.2941    </td><td>5.135244e-02</td></tr>\n",
       "\t<tr><th scope=row>pcred</th><td>19          </td><td>59.663736   </td><td>626         </td><td>520.6304    </td><td>4.373491e-06</td></tr>\n",
       "\t<tr><th scope=row>target_location</th><td> 5          </td><td>25.435363   </td><td>621         </td><td>495.1950    </td><td>1.147920e-04</td></tr>\n",
       "</tbody>\n",
       "</table>\n"
      ],
      "text/latex": [
       "\\begin{tabular}{r|lllll}\n",
       "  & Df & Deviance & Resid. Df & Resid. Dev & Pr(>Chi)\\\\\n",
       "\\hline\n",
       "\tNULL & NA           &        NA    & 649          & 612.8115     &           NA\\\\\n",
       "\texpression\\_score.pos &  1           &  7.801133    & 648          & 605.0104     & 5.221349e-03\\\\\n",
       "\tuniprot\\_literature.pos &  1           & 15.874205    & 647          & 589.1362     & 6.769512e-05\\\\\n",
       "\treactome.pos &  1           &  5.045345    & 646          & 584.0908     & 2.469219e-02\\\\\n",
       "\tpc\\_mouse\\_gene\\_identity.pos &  1           &  3.796741    & 645          & 580.2941     & 5.135244e-02\\\\\n",
       "\tpcred & 19           & 59.663736    & 626          & 520.6304     & 4.373491e-06\\\\\n",
       "\ttarget\\_location &  5           & 25.435363    & 621          & 495.1950     & 1.147920e-04\\\\\n",
       "\\end{tabular}\n"
      ],
      "text/markdown": [
       "\n",
       "| <!--/--> | Df | Deviance | Resid. Df | Resid. Dev | Pr(>Chi) | \n",
       "|---|---|---|---|---|---|---|\n",
       "| NULL | NA           |        NA    | 649          | 612.8115     |           NA | \n",
       "| expression_score.pos |  1           |  7.801133    | 648          | 605.0104     | 5.221349e-03 | \n",
       "| uniprot_literature.pos |  1           | 15.874205    | 647          | 589.1362     | 6.769512e-05 | \n",
       "| reactome.pos |  1           |  5.045345    | 646          | 584.0908     | 2.469219e-02 | \n",
       "| pc_mouse_gene_identity.pos |  1           |  3.796741    | 645          | 580.2941     | 5.135244e-02 | \n",
       "| pcred | 19           | 59.663736    | 626          | 520.6304     | 4.373491e-06 | \n",
       "| target_location |  5           | 25.435363    | 621          | 495.1950     | 1.147920e-04 | \n",
       "\n",
       "\n"
      ],
      "text/plain": [
       "                           Df Deviance  Resid. Df Resid. Dev Pr(>Chi)    \n",
       "NULL                       NA        NA 649       612.8115             NA\n",
       "expression_score.pos        1  7.801133 648       605.0104   5.221349e-03\n",
       "uniprot_literature.pos      1 15.874205 647       589.1362   6.769512e-05\n",
       "reactome.pos                1  5.045345 646       584.0908   2.469219e-02\n",
       "pc_mouse_gene_identity.pos  1  3.796741 645       580.2941   5.135244e-02\n",
       "pcred                      19 59.663736 626       520.6304   4.373491e-06\n",
       "target_location             5 25.435363 621       495.1950   1.147920e-04"
      ]
     },
     "metadata": {},
     "output_type": "display_data"
    }
   ],
   "source": [
    "u.train.data = subset(u.all.data, Train)\n",
    "u.test.data = subset(u.all.data, !Train)\n",
    "u.indep.vars = indep.vars[!(indep.vars %in% \"phenodigm.pos\")]\n",
    "\n",
    "u.full.glm = glm(clinical.outcome ~ ., \n",
    "                u.train.data[, c(\"clinical.outcome\", u.indep.vars)],\n",
    "              family = binomial)\n",
    "u.backward.glm = step(u.full.glm, trace = 0)\n",
    "anova(u.backward.glm, test = \"Chisq\")"
   ]
  },
  {
   "cell_type": "code",
   "execution_count": 180,
   "metadata": {
    "collapsed": true
   },
   "outputs": [],
   "source": [
    "u.test.data$pred.prob = predict(u.backward.glm, newdata = u.test.data, \n",
    "                            type = \"response\")\n",
    "u.train.data$pred.prob = predict(u.backward.glm, newdata = u.train.data, \n",
    "                              type = \"response\")"
   ]
  },
  {
   "cell_type": "code",
   "execution_count": 181,
   "metadata": {},
   "outputs": [
    {
     "data": {
      "image/png": "[encoded data removed]",
      "text/plain": [
       "plot without title"
      ]
     },
     "metadata": {},
     "output_type": "display_data"
    }
   ],
   "source": [
    "u.roc.train = simple_roc(u.train.data$clinical.outcome %in% \"Success\",\n",
    "                      u.train.data$pred.prob)\n",
    "u.roc.test = simple_roc(u.test.data$clinical.outcome %in% \"Success\",\n",
    "                      u.test.data$pred.prob)\n",
    "plot(TPR ~ 1 - FPR, roc.train, type = \"l\", lwd = 2, col = \"blue\")\n",
    "lines(TPR ~ 1 - FPR, roc.test, lwd = 2, col = \"red\")\n",
    "lines(TPR ~ 1 - FPR, u.roc.train, lwd = 2, col = \"blue\", lty = 2)\n",
    "lines(TPR ~ 1 - FPR, u.roc.test, lwd = 2, col = \"red\", lty = 2)\n",
    "abline(0, 1)\n",
    "legend(1, 0, c(\"Train - All\", \"Test - All\", \"Train - No Dups\", \"Test - No Dups\"), \n",
    "       lty = c(1, 1, 2, 2), lwd = 2, col = rep(c(\"blue\", \"red\"), 2), xjust = 1, yjust = 0)"
   ]
  },
  {
   "cell_type": "markdown",
   "metadata": {},
   "source": [
    "## Assessment of first indication versus random indications for targets"
   ]
  },
  {
   "cell_type": "code",
   "execution_count": 182,
   "metadata": {},
   "outputs": [
    {
     "name": "stdout",
     "output_type": "stream",
     "text": [
      "                                                 clinical.outcome\n",
      "Indication.with.First.Clinical.Outcome.for.Target Failure Success\n",
      "                                                N    2424    1118\n",
      "                                                Y     348     174\n"
     ]
    }
   ],
   "source": [
    "x = xtabs(~ Indication.with.First.Clinical.Outcome.for.Target + clinical.outcome, all.data)\n",
    "print(x)"
   ]
  },
  {
   "cell_type": "code",
   "execution_count": 183,
   "metadata": {},
   "outputs": [
    {
     "data": {
      "text/plain": [
       "\n",
       "\tFisher's Exact Test for Count Data\n",
       "\n",
       "data:  x\n",
       "p-value = 0.4208\n",
       "alternative hypothesis: true odds ratio is not equal to 1\n",
       "95 percent confidence interval:\n",
       " 0.8862145 1.3227013\n",
       "sample estimates:\n",
       "odds ratio \n",
       "  1.084055 \n"
      ]
     },
     "metadata": {},
     "output_type": "display_data"
    }
   ],
   "source": [
    "fisher.test(x)"
   ]
  },
  {
   "cell_type": "code",
   "execution_count": 184,
   "metadata": {},
   "outputs": [
    {
     "name": "stdout",
     "output_type": "stream",
     "text": [
      "       clinical.outcome\n",
      "Train   Failure Success\n",
      "  FALSE     550     263\n",
      "  TRUE     2222    1029\n"
     ]
    }
   ],
   "source": [
    "all.data$Train = all.data$key %in% train.data$key\n",
    "x2 = xtabs(~ Train + clinical.outcome, all.data)\n",
    "print(x2)"
   ]
  },
  {
   "cell_type": "code",
   "execution_count": 185,
   "metadata": {},
   "outputs": [
    {
     "data": {
      "text/plain": [
       "\n",
       "\tFisher's Exact Test for Count Data\n",
       "\n",
       "data:  x2\n",
       "p-value = 0.7049\n",
       "alternative hypothesis: true odds ratio is not equal to 1\n",
       "95 percent confidence interval:\n",
       " 0.8193584 1.1464610\n",
       "sample estimates:\n",
       "odds ratio \n",
       " 0.9684309 \n"
      ]
     },
     "metadata": {},
     "output_type": "display_data"
    }
   ],
   "source": [
    "fisher.test(x2)"
   ]
  }
 ],
 "metadata": {
  "kernelspec": {
   "display_name": "R",
   "language": "R",
   "name": "ir"
  },
  "language_info": {
   "codemirror_mode": "r",
   "file_extension": ".r",
   "mimetype": "text/x-r-source",
   "name": "R",
   "pygments_lexer": "r",
   "version": "3.4.2"
  }
 },
 "nbformat": 4,
 "nbformat_minor": 2
}
